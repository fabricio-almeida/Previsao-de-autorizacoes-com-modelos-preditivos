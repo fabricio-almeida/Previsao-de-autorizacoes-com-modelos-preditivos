{
 "cells": [
  {
   "cell_type": "markdown",
   "id": "4e18427c",
   "metadata": {},
   "source": [
    "<img src=\"puc.png\" width=\"200\" align=\"center\"/>"
   ]
  },
  {
   "cell_type": "markdown",
   "id": "6e0898d3",
   "metadata": {},
   "source": [
    "<p style=\"text-align:center\">&nbsp;</p>\n",
    "\n",
    "<p style=\"text-align:center\"><span style=\"font-size:20px\"><strong><PUC Minas - Pontif&iacute;cia Universidade Cat&oacute;lica de Minas Gerais</strong></span></p>\n",
    "\n",
    "<p style=\"text-align:center\"><span style=\"font-size:20px\"><strong>P&oacute;s-Gradua&ccedil;&atilde;o em Ci&ecirc;ncia de Dados e Big Data</strong></span></p>\n",
    "\n",
    "<p style=\"text-align:center\">&nbsp;</p>\n",
    "\n",
    "<p style=\"text-align:center\"><span style=\"font-size:20px\"><strong>Trabalho de Conclus&atilde;o de Curso</strong></span></p>\n",
    "\n",
    "<p style=\"text-align:center\">&nbsp;</p>\n",
    "\n",
    "<p style=\"text-align:center\"><span style=\"font-size:16px\"><strong>T&iacute;tulo</strong></span><span style=\"font-size:14px\">: An&aacute;lise e Previs&atilde;o de&nbsp;&nbsp;Autoriza&ccedil;&atilde;o utilizando Modelos Preditivos.</span></p>\n",
    "\n",
    "<p style=\"text-align:center\"><span style=\"font-size:16px\"><strong>Aluno</strong></span><span style=\"font-size:14px\">: Fabr&iacute;cio Almeida da Silva</span></p><p>\n"
   ]
  },
  {
   "cell_type": "markdown",
   "id": "718a309a",
   "metadata": {},
   "source": [
    "<img src=\"operadora2.jpeg\" width=\"700\" align=\"center\"/>"
   ]
  },
  {
   "cell_type": "markdown",
   "id": "21358284",
   "metadata": {},
   "source": [
    "<h4>Este notebook é referente ao Trabalho de Conclusão de Curso em Ciência de Dados e Big Data da Pós-Graduação da PUC Minas\n",
    "<br><br>Nesse trabalho serão utilizados dois datasets que foram extraídos de um data warehouse de uma empresa privada.</h4>\n",
    "\n",
    "<strong>guias_autorizadas_01-2021_06-2021.csv --></strong> Este dataset contém as informações das guias que foram analisadas pelos médicos auditores. Foi utilizado o período de janeiro/2021 a junho/2021.\n",
    "\n",
    "<ol>\n",
    "<li>codigo_servico - Código do serviço solicitado na guia</li>\n",
    "<li>situacao - Situação da autorização se está autorizada ou negada</li>\n",
    "<li>tipo - Identifica se a autorização foi solicitada eletronicamente ou fisicamente na operadora</li>\n",
    "<li>origem - Identifica se é local ou intercambio</li>\n",
    "<li>faturado - Identifica se o serviço foi faturado para pagamento ou cobrança</li>\n",
    "<li>codigo - Código da transação no sistema</li>\n",
    "<li>auditoria - Identifica se houve auditoria da autorização</li>\n",
    "<li>origem_beneficiario - Código da operadora do beneficiário</li>\n",
    "<li>codigo_executante - Código do prestador que irá realizar o procedimento</li>\n",
    "<li>codigo_requisitante - Código do prestador que requisitou o serviço</li>\n",
    "<li>especialidade_executante - Código da especialidade do prestador que vai realizar o serviço</li>\n",
    "<li>especialidade_requisitante - Código da especialidade do prestador que solicitou o serviço</li>\n",
    "<li>plano_beneficiario - Código do plano do beneficiário</li>\n",
    "<li>carater_atendimento - Identifica se é um atendimento de urgência ou eletivo</li>\n",
    "<li>tipo_consulta - Identifica o tipo de serviço a ser autorizado</li>\n",
    "</ol>\n",
    "\n",
    "<strong>localizacao_operadoras.csv --></strong> Este dataset contém informações geográficas das operadoras que realizaram a solicitação.\n",
    "\n",
    "<ol>\n",
    "<li>codigo - Código do prestador que requisitou o serviço</li>\n",
    "<li>municipio - Nome do município</li>\n",
    "<li>estado - Nome do estado</li>\n",
    "<li>pais - Pais</li>\n",
    "</ol>"
   ]
  },
  {
   "cell_type": "markdown",
   "id": "8968b2be",
   "metadata": {},
   "source": [
    "# Importação das Bibliotecas iniciais"
   ]
  },
  {
   "cell_type": "code",
   "execution_count": 340,
   "id": "d488b6cb",
   "metadata": {},
   "outputs": [],
   "source": [
    "#importando bibliotecas necessarias\n",
    "import pandas as pd \n",
    "import numpy as np \n",
    "import matplotlib.pyplot as plt \n",
    "import seaborn as sns \n",
    "import sklearn \n",
    "\n",
    "from sklearn.preprocessing import LabelEncoder\n",
    "from sklearn.model_selection import train_test_split\n",
    "from imblearn.over_sampling import SMOTE\n",
    "from sklearn.naive_bayes import GaussianNB\n",
    "from sklearn.tree import DecisionTreeClassifier\n",
    "from sklearn.ensemble import RandomForestClassifier\n",
    "from yellowbrick.classifier import ConfusionMatrix\n",
    "from sklearn.metrics import accuracy_score, confusion_matrix, classification_report\n",
    "\n",
    "import warnings\n",
    "warnings.filterwarnings('ignore')\n",
    "%matplotlib inline"
   ]
  },
  {
   "cell_type": "markdown",
   "id": "e68cb27e",
   "metadata": {},
   "source": [
    "# Importação dos datasets e Analise exploratoria\n",
    "Nesta seção iremos importar o datasets e faremos uma breve visualização dos dados"
   ]
  },
  {
   "cell_type": "markdown",
   "id": "a8bad5fc",
   "metadata": {},
   "source": [
    "## Trabalhando com o Dataset guias_autorizadas_01-2021_06-2021.csv"
   ]
  },
  {
   "cell_type": "code",
   "execution_count": 341,
   "id": "49ba1107",
   "metadata": {},
   "outputs": [],
   "source": [
    "#importando o dataset para analise\n",
    "df_guias = pd.read_csv('guias_autorizadas_01-2021_06-2021.csv', sep= ';', encoding='UTF-8')"
   ]
  },
  {
   "cell_type": "code",
   "execution_count": 342,
   "id": "4bfef781",
   "metadata": {
    "scrolled": true
   },
   "outputs": [
    {
     "name": "stdout",
     "output_type": "stream",
     "text": [
      "Numero de Linhas = 11951\n",
      "Numero de Colunas = 15\n"
     ]
    }
   ],
   "source": [
    "#visualizando a quantidade de linhas e colunas do dataset\n",
    "print(\"Numero de Linhas =\",df_guias.shape[0])\n",
    "print(\"Numero de Colunas =\",df_guias.shape[1])\n"
   ]
  },
  {
   "cell_type": "code",
   "execution_count": 343,
   "id": "df614c76",
   "metadata": {},
   "outputs": [
    {
     "data": {
      "text/html": [
       "<div>\n",
       "<style scoped>\n",
       "    .dataframe tbody tr th:only-of-type {\n",
       "        vertical-align: middle;\n",
       "    }\n",
       "\n",
       "    .dataframe tbody tr th {\n",
       "        vertical-align: top;\n",
       "    }\n",
       "\n",
       "    .dataframe thead th {\n",
       "        text-align: right;\n",
       "    }\n",
       "</style>\n",
       "<table border=\"1\" class=\"dataframe\">\n",
       "  <thead>\n",
       "    <tr style=\"text-align: right;\">\n",
       "      <th></th>\n",
       "      <th>codigo_servico</th>\n",
       "      <th>situacao</th>\n",
       "      <th>tipo</th>\n",
       "      <th>origem</th>\n",
       "      <th>faturado</th>\n",
       "      <th>codigo</th>\n",
       "      <th>auditoria</th>\n",
       "      <th>origem_beneficiario</th>\n",
       "      <th>codigo_executante</th>\n",
       "      <th>codigo_requisitante</th>\n",
       "      <th>especialidade_executante</th>\n",
       "      <th>especialidade_requisitante</th>\n",
       "      <th>plano_beneficiario</th>\n",
       "      <th>carater_atendimento</th>\n",
       "      <th>tipo_consulta</th>\n",
       "    </tr>\n",
       "  </thead>\n",
       "  <tbody>\n",
       "    <tr>\n",
       "      <th>0</th>\n",
       "      <td>1244</td>\n",
       "      <td>EFETIVADA</td>\n",
       "      <td>TRANSITO INTERNACAO</td>\n",
       "      <td>TRANSACAO</td>\n",
       "      <td>SIM</td>\n",
       "      <td>5672237</td>\n",
       "      <td>SIM</td>\n",
       "      <td>LOCAL</td>\n",
       "      <td>178</td>\n",
       "      <td>178</td>\n",
       "      <td>278</td>\n",
       "      <td>278</td>\n",
       "      <td>563</td>\n",
       "      <td>ELETIVA/PRIMEIRA CONSULTA</td>\n",
       "      <td>NAO CONSULTA</td>\n",
       "    </tr>\n",
       "    <tr>\n",
       "      <th>1</th>\n",
       "      <td>2496</td>\n",
       "      <td>PARCIALMENTE AUTORIZADA</td>\n",
       "      <td>TRANSITO INTERNACAO</td>\n",
       "      <td>TRANSACAO</td>\n",
       "      <td>NAO</td>\n",
       "      <td>5861322</td>\n",
       "      <td>SIM</td>\n",
       "      <td>LOCAL</td>\n",
       "      <td>173</td>\n",
       "      <td>173</td>\n",
       "      <td>278</td>\n",
       "      <td>278</td>\n",
       "      <td>531</td>\n",
       "      <td>URGENCIA/EMERGENCIA</td>\n",
       "      <td>NAO CONSULTA</td>\n",
       "    </tr>\n",
       "    <tr>\n",
       "      <th>2</th>\n",
       "      <td>2500</td>\n",
       "      <td>EFETIVADA</td>\n",
       "      <td>TRANSITO INTERNACAO</td>\n",
       "      <td>TRANSACAO</td>\n",
       "      <td>SIM</td>\n",
       "      <td>5332998</td>\n",
       "      <td>SIM</td>\n",
       "      <td>LOCAL</td>\n",
       "      <td>202</td>\n",
       "      <td>202</td>\n",
       "      <td>278</td>\n",
       "      <td>278</td>\n",
       "      <td>538</td>\n",
       "      <td>URGENCIA/EMERGENCIA</td>\n",
       "      <td>NAO CONSULTA</td>\n",
       "    </tr>\n",
       "    <tr>\n",
       "      <th>3</th>\n",
       "      <td>9350</td>\n",
       "      <td>EFETIVADA</td>\n",
       "      <td>TRANSITO INTERNACAO</td>\n",
       "      <td>TRANSACAO</td>\n",
       "      <td>SIM</td>\n",
       "      <td>5332998</td>\n",
       "      <td>SIM</td>\n",
       "      <td>LOCAL</td>\n",
       "      <td>202</td>\n",
       "      <td>202</td>\n",
       "      <td>278</td>\n",
       "      <td>278</td>\n",
       "      <td>538</td>\n",
       "      <td>URGENCIA/EMERGENCIA</td>\n",
       "      <td>NAO CONSULTA</td>\n",
       "    </tr>\n",
       "    <tr>\n",
       "      <th>4</th>\n",
       "      <td>12076</td>\n",
       "      <td>PARCIALMENTE AUTORIZADA</td>\n",
       "      <td>TRANSITO INTERNACAO</td>\n",
       "      <td>TRANSACAO</td>\n",
       "      <td>NAO</td>\n",
       "      <td>5581250</td>\n",
       "      <td>SIM</td>\n",
       "      <td>LOCAL</td>\n",
       "      <td>179</td>\n",
       "      <td>179</td>\n",
       "      <td>278</td>\n",
       "      <td>278</td>\n",
       "      <td>622</td>\n",
       "      <td>ELETIVA/PRIMEIRA CONSULTA</td>\n",
       "      <td>NAO CONSULTA</td>\n",
       "    </tr>\n",
       "  </tbody>\n",
       "</table>\n",
       "</div>"
      ],
      "text/plain": [
       "  codigo_servico                 situacao                 tipo     origem  \\\n",
       "0           1244                EFETIVADA  TRANSITO INTERNACAO  TRANSACAO   \n",
       "1           2496  PARCIALMENTE AUTORIZADA  TRANSITO INTERNACAO  TRANSACAO   \n",
       "2           2500                EFETIVADA  TRANSITO INTERNACAO  TRANSACAO   \n",
       "3           9350                EFETIVADA  TRANSITO INTERNACAO  TRANSACAO   \n",
       "4          12076  PARCIALMENTE AUTORIZADA  TRANSITO INTERNACAO  TRANSACAO   \n",
       "\n",
       "  faturado   codigo auditoria origem_beneficiario  codigo_executante  \\\n",
       "0      SIM  5672237       SIM               LOCAL                178   \n",
       "1      NAO  5861322       SIM               LOCAL                173   \n",
       "2      SIM  5332998       SIM               LOCAL                202   \n",
       "3      SIM  5332998       SIM               LOCAL                202   \n",
       "4      NAO  5581250       SIM               LOCAL                179   \n",
       "\n",
       "   codigo_requisitante  especialidade_executante  especialidade_requisitante  \\\n",
       "0                  178                       278                         278   \n",
       "1                  173                       278                         278   \n",
       "2                  202                       278                         278   \n",
       "3                  202                       278                         278   \n",
       "4                  179                       278                         278   \n",
       "\n",
       "   plano_beneficiario        carater_atendimento tipo_consulta  \n",
       "0                 563  ELETIVA/PRIMEIRA CONSULTA  NAO CONSULTA  \n",
       "1                 531        URGENCIA/EMERGENCIA  NAO CONSULTA  \n",
       "2                 538        URGENCIA/EMERGENCIA  NAO CONSULTA  \n",
       "3                 538        URGENCIA/EMERGENCIA  NAO CONSULTA  \n",
       "4                 622  ELETIVA/PRIMEIRA CONSULTA  NAO CONSULTA  "
      ]
     },
     "execution_count": 343,
     "metadata": {},
     "output_type": "execute_result"
    }
   ],
   "source": [
    "#visualizando as 5 primeiras linhas do dataset\n",
    "df_guias.head()"
   ]
  },
  {
   "cell_type": "code",
   "execution_count": 344,
   "id": "13bf053b",
   "metadata": {},
   "outputs": [
    {
     "data": {
      "text/html": [
       "<div>\n",
       "<style scoped>\n",
       "    .dataframe tbody tr th:only-of-type {\n",
       "        vertical-align: middle;\n",
       "    }\n",
       "\n",
       "    .dataframe tbody tr th {\n",
       "        vertical-align: top;\n",
       "    }\n",
       "\n",
       "    .dataframe thead th {\n",
       "        text-align: right;\n",
       "    }\n",
       "</style>\n",
       "<table border=\"1\" class=\"dataframe\">\n",
       "  <thead>\n",
       "    <tr style=\"text-align: right;\">\n",
       "      <th></th>\n",
       "      <th>codigo_servico</th>\n",
       "      <th>situacao</th>\n",
       "      <th>tipo</th>\n",
       "      <th>origem</th>\n",
       "      <th>faturado</th>\n",
       "      <th>codigo</th>\n",
       "      <th>auditoria</th>\n",
       "      <th>origem_beneficiario</th>\n",
       "      <th>codigo_executante</th>\n",
       "      <th>codigo_requisitante</th>\n",
       "      <th>especialidade_executante</th>\n",
       "      <th>especialidade_requisitante</th>\n",
       "      <th>plano_beneficiario</th>\n",
       "      <th>carater_atendimento</th>\n",
       "      <th>tipo_consulta</th>\n",
       "    </tr>\n",
       "  </thead>\n",
       "  <tbody>\n",
       "    <tr>\n",
       "      <th>11946</th>\n",
       "      <td>99999943</td>\n",
       "      <td>PARCIALMENTE AUTORIZADA</td>\n",
       "      <td>TRANSITO INTERNACAO</td>\n",
       "      <td>TRANSACAO</td>\n",
       "      <td>SIM</td>\n",
       "      <td>5338715</td>\n",
       "      <td>SIM</td>\n",
       "      <td>LOCAL</td>\n",
       "      <td>865</td>\n",
       "      <td>865</td>\n",
       "      <td>278</td>\n",
       "      <td>278</td>\n",
       "      <td>623</td>\n",
       "      <td>ELETIVA/PRIMEIRA CONSULTA</td>\n",
       "      <td>NAO CONSULTA</td>\n",
       "    </tr>\n",
       "    <tr>\n",
       "      <th>11947</th>\n",
       "      <td>99999943</td>\n",
       "      <td>PARCIALMENTE AUTORIZADA</td>\n",
       "      <td>TRANSITO INTERNACAO</td>\n",
       "      <td>TRANSACAO</td>\n",
       "      <td>SIM</td>\n",
       "      <td>5365321</td>\n",
       "      <td>SIM</td>\n",
       "      <td>LOCAL</td>\n",
       "      <td>865</td>\n",
       "      <td>865</td>\n",
       "      <td>278</td>\n",
       "      <td>278</td>\n",
       "      <td>563</td>\n",
       "      <td>ELETIVA/PRIMEIRA CONSULTA</td>\n",
       "      <td>NAO CONSULTA</td>\n",
       "    </tr>\n",
       "    <tr>\n",
       "      <th>11948</th>\n",
       "      <td>99999943</td>\n",
       "      <td>PARCIALMENTE AUTORIZADA</td>\n",
       "      <td>TRANSITO INTERNACAO</td>\n",
       "      <td>TRANSACAO</td>\n",
       "      <td>SIM</td>\n",
       "      <td>5792510</td>\n",
       "      <td>SIM</td>\n",
       "      <td>LOCAL</td>\n",
       "      <td>233</td>\n",
       "      <td>233</td>\n",
       "      <td>278</td>\n",
       "      <td>278</td>\n",
       "      <td>622</td>\n",
       "      <td>ELETIVA/PRIMEIRA CONSULTA</td>\n",
       "      <td>NAO CONSULTA</td>\n",
       "    </tr>\n",
       "    <tr>\n",
       "      <th>11949</th>\n",
       "      <td>99999943</td>\n",
       "      <td>PARCIALMENTE AUTORIZADA</td>\n",
       "      <td>TRANSITO SERVICO</td>\n",
       "      <td>TRANSACAO</td>\n",
       "      <td>NAO</td>\n",
       "      <td>5435478</td>\n",
       "      <td>SIM</td>\n",
       "      <td>LOCAL</td>\n",
       "      <td>166</td>\n",
       "      <td>166</td>\n",
       "      <td>278</td>\n",
       "      <td>278</td>\n",
       "      <td>529</td>\n",
       "      <td>ELETIVA/PRIMEIRA CONSULTA</td>\n",
       "      <td>NAO CONSULTA</td>\n",
       "    </tr>\n",
       "    <tr>\n",
       "      <th>11950</th>\n",
       "      <td>99999943</td>\n",
       "      <td>AUTORIZADA</td>\n",
       "      <td>SERVIÇO</td>\n",
       "      <td>AUTORIZACAO</td>\n",
       "      <td>NAO</td>\n",
       "      <td>77419622</td>\n",
       "      <td>SIM</td>\n",
       "      <td>LOCAL</td>\n",
       "      <td>6</td>\n",
       "      <td>6</td>\n",
       "      <td>466</td>\n",
       "      <td>466</td>\n",
       "      <td>322</td>\n",
       "      <td>ELETIVA/PRIMEIRA CONSULTA</td>\n",
       "      <td>NAO CONSULTA</td>\n",
       "    </tr>\n",
       "  </tbody>\n",
       "</table>\n",
       "</div>"
      ],
      "text/plain": [
       "      codigo_servico                 situacao                 tipo  \\\n",
       "11946       99999943  PARCIALMENTE AUTORIZADA  TRANSITO INTERNACAO   \n",
       "11947       99999943  PARCIALMENTE AUTORIZADA  TRANSITO INTERNACAO   \n",
       "11948       99999943  PARCIALMENTE AUTORIZADA  TRANSITO INTERNACAO   \n",
       "11949       99999943  PARCIALMENTE AUTORIZADA     TRANSITO SERVICO   \n",
       "11950       99999943               AUTORIZADA              SERVIÇO   \n",
       "\n",
       "            origem faturado    codigo auditoria origem_beneficiario  \\\n",
       "11946    TRANSACAO      SIM   5338715       SIM               LOCAL   \n",
       "11947    TRANSACAO      SIM   5365321       SIM               LOCAL   \n",
       "11948    TRANSACAO      SIM   5792510       SIM               LOCAL   \n",
       "11949    TRANSACAO      NAO   5435478       SIM               LOCAL   \n",
       "11950  AUTORIZACAO      NAO  77419622       SIM               LOCAL   \n",
       "\n",
       "       codigo_executante  codigo_requisitante  especialidade_executante  \\\n",
       "11946                865                  865                       278   \n",
       "11947                865                  865                       278   \n",
       "11948                233                  233                       278   \n",
       "11949                166                  166                       278   \n",
       "11950                  6                    6                       466   \n",
       "\n",
       "       especialidade_requisitante  plano_beneficiario  \\\n",
       "11946                         278                 623   \n",
       "11947                         278                 563   \n",
       "11948                         278                 622   \n",
       "11949                         278                 529   \n",
       "11950                         466                 322   \n",
       "\n",
       "             carater_atendimento tipo_consulta  \n",
       "11946  ELETIVA/PRIMEIRA CONSULTA  NAO CONSULTA  \n",
       "11947  ELETIVA/PRIMEIRA CONSULTA  NAO CONSULTA  \n",
       "11948  ELETIVA/PRIMEIRA CONSULTA  NAO CONSULTA  \n",
       "11949  ELETIVA/PRIMEIRA CONSULTA  NAO CONSULTA  \n",
       "11950  ELETIVA/PRIMEIRA CONSULTA  NAO CONSULTA  "
      ]
     },
     "execution_count": 344,
     "metadata": {},
     "output_type": "execute_result"
    }
   ],
   "source": [
    "#visualizando as 5 ultimas linhas do dataset\n",
    "df_guias.tail()"
   ]
  },
  {
   "cell_type": "code",
   "execution_count": 345,
   "id": "19507fe5",
   "metadata": {},
   "outputs": [
    {
     "name": "stdout",
     "output_type": "stream",
     "text": [
      "<class 'pandas.core.frame.DataFrame'>\n",
      "RangeIndex: 11951 entries, 0 to 11950\n",
      "Data columns (total 15 columns):\n",
      " #   Column                      Non-Null Count  Dtype \n",
      "---  ------                      --------------  ----- \n",
      " 0   codigo_servico              11951 non-null  object\n",
      " 1   situacao                    11951 non-null  object\n",
      " 2   tipo                        11951 non-null  object\n",
      " 3   origem                      11951 non-null  object\n",
      " 4   faturado                    11951 non-null  object\n",
      " 5   codigo                      11951 non-null  int64 \n",
      " 6   auditoria                   11951 non-null  object\n",
      " 7   origem_beneficiario         11951 non-null  object\n",
      " 8   codigo_executante           11951 non-null  int64 \n",
      " 9   codigo_requisitante         11951 non-null  int64 \n",
      " 10  especialidade_executante    11951 non-null  int64 \n",
      " 11  especialidade_requisitante  11951 non-null  int64 \n",
      " 12  plano_beneficiario          11951 non-null  int64 \n",
      " 13  carater_atendimento         11951 non-null  object\n",
      " 14  tipo_consulta               11951 non-null  object\n",
      "dtypes: int64(6), object(9)\n",
      "memory usage: 1.4+ MB\n"
     ]
    }
   ],
   "source": [
    "#visualizando os tipos dos dados\n",
    "df_guias.info()"
   ]
  },
  {
   "cell_type": "code",
   "execution_count": 346,
   "id": "0aa47bdb",
   "metadata": {},
   "outputs": [
    {
     "data": {
      "text/plain": [
       "codigo_servico                0\n",
       "situacao                      0\n",
       "tipo                          0\n",
       "origem                        0\n",
       "faturado                      0\n",
       "codigo                        0\n",
       "auditoria                     0\n",
       "origem_beneficiario           0\n",
       "codigo_executante             0\n",
       "codigo_requisitante           0\n",
       "especialidade_executante      0\n",
       "especialidade_requisitante    0\n",
       "plano_beneficiario            0\n",
       "carater_atendimento           0\n",
       "tipo_consulta                 0\n",
       "dtype: int64"
      ]
     },
     "execution_count": 346,
     "metadata": {},
     "output_type": "execute_result"
    }
   ],
   "source": [
    "#verificando se existem campos nulos\n",
    "df_guias.isnull().sum()"
   ]
  },
  {
   "cell_type": "code",
   "execution_count": 347,
   "id": "01cea866",
   "metadata": {},
   "outputs": [
    {
     "data": {
      "text/html": [
       "<div>\n",
       "<style scoped>\n",
       "    .dataframe tbody tr th:only-of-type {\n",
       "        vertical-align: middle;\n",
       "    }\n",
       "\n",
       "    .dataframe tbody tr th {\n",
       "        vertical-align: top;\n",
       "    }\n",
       "\n",
       "    .dataframe thead th {\n",
       "        text-align: right;\n",
       "    }\n",
       "</style>\n",
       "<table border=\"1\" class=\"dataframe\">\n",
       "  <thead>\n",
       "    <tr style=\"text-align: right;\">\n",
       "      <th></th>\n",
       "      <th>count</th>\n",
       "      <th>mean</th>\n",
       "      <th>std</th>\n",
       "      <th>min</th>\n",
       "      <th>25%</th>\n",
       "      <th>50%</th>\n",
       "      <th>75%</th>\n",
       "      <th>max</th>\n",
       "    </tr>\n",
       "  </thead>\n",
       "  <tbody>\n",
       "    <tr>\n",
       "      <th>codigo</th>\n",
       "      <td>11951.0</td>\n",
       "      <td>6.290138e+06</td>\n",
       "      <td>7.107624e+06</td>\n",
       "      <td>5313592.0</td>\n",
       "      <td>5429088.0</td>\n",
       "      <td>5573307.0</td>\n",
       "      <td>5737831.0</td>\n",
       "      <td>77473972.0</td>\n",
       "    </tr>\n",
       "    <tr>\n",
       "      <th>codigo_executante</th>\n",
       "      <td>11951.0</td>\n",
       "      <td>3.352212e+02</td>\n",
       "      <td>2.562648e+02</td>\n",
       "      <td>6.0</td>\n",
       "      <td>200.0</td>\n",
       "      <td>229.0</td>\n",
       "      <td>286.0</td>\n",
       "      <td>988.0</td>\n",
       "    </tr>\n",
       "    <tr>\n",
       "      <th>codigo_requisitante</th>\n",
       "      <td>11951.0</td>\n",
       "      <td>3.357603e+02</td>\n",
       "      <td>2.566209e+02</td>\n",
       "      <td>6.0</td>\n",
       "      <td>200.0</td>\n",
       "      <td>231.0</td>\n",
       "      <td>286.0</td>\n",
       "      <td>988.0</td>\n",
       "    </tr>\n",
       "    <tr>\n",
       "      <th>especialidade_executante</th>\n",
       "      <td>11951.0</td>\n",
       "      <td>2.780315e+02</td>\n",
       "      <td>2.431938e+00</td>\n",
       "      <td>278.0</td>\n",
       "      <td>278.0</td>\n",
       "      <td>278.0</td>\n",
       "      <td>278.0</td>\n",
       "      <td>466.0</td>\n",
       "    </tr>\n",
       "    <tr>\n",
       "      <th>especialidade_requisitante</th>\n",
       "      <td>11951.0</td>\n",
       "      <td>2.780315e+02</td>\n",
       "      <td>2.431938e+00</td>\n",
       "      <td>278.0</td>\n",
       "      <td>278.0</td>\n",
       "      <td>278.0</td>\n",
       "      <td>278.0</td>\n",
       "      <td>466.0</td>\n",
       "    </tr>\n",
       "    <tr>\n",
       "      <th>plano_beneficiario</th>\n",
       "      <td>11951.0</td>\n",
       "      <td>5.738592e+02</td>\n",
       "      <td>6.832121e+01</td>\n",
       "      <td>2.0</td>\n",
       "      <td>542.0</td>\n",
       "      <td>572.0</td>\n",
       "      <td>622.0</td>\n",
       "      <td>627.0</td>\n",
       "    </tr>\n",
       "  </tbody>\n",
       "</table>\n",
       "</div>"
      ],
      "text/plain": [
       "                              count          mean           std        min  \\\n",
       "codigo                      11951.0  6.290138e+06  7.107624e+06  5313592.0   \n",
       "codigo_executante           11951.0  3.352212e+02  2.562648e+02        6.0   \n",
       "codigo_requisitante         11951.0  3.357603e+02  2.566209e+02        6.0   \n",
       "especialidade_executante    11951.0  2.780315e+02  2.431938e+00      278.0   \n",
       "especialidade_requisitante  11951.0  2.780315e+02  2.431938e+00      278.0   \n",
       "plano_beneficiario          11951.0  5.738592e+02  6.832121e+01        2.0   \n",
       "\n",
       "                                  25%        50%        75%         max  \n",
       "codigo                      5429088.0  5573307.0  5737831.0  77473972.0  \n",
       "codigo_executante               200.0      229.0      286.0       988.0  \n",
       "codigo_requisitante             200.0      231.0      286.0       988.0  \n",
       "especialidade_executante        278.0      278.0      278.0       466.0  \n",
       "especialidade_requisitante      278.0      278.0      278.0       466.0  \n",
       "plano_beneficiario              542.0      572.0      622.0       627.0  "
      ]
     },
     "execution_count": 347,
     "metadata": {},
     "output_type": "execute_result"
    }
   ],
   "source": [
    "#visualizando as medidas estatísticas dos atributos numéricas\n",
    "df_guias.describe().transpose()"
   ]
  },
  {
   "cell_type": "code",
   "execution_count": 348,
   "id": "6314d865",
   "metadata": {},
   "outputs": [
    {
     "data": {
      "text/plain": [
       "codigo_servico                1824\n",
       "situacao                         6\n",
       "tipo                             6\n",
       "origem                           2\n",
       "faturado                         2\n",
       "codigo                        6116\n",
       "auditoria                        1\n",
       "origem_beneficiario              1\n",
       "codigo_executante              138\n",
       "codigo_requisitante            141\n",
       "especialidade_executante         2\n",
       "especialidade_requisitante       2\n",
       "plano_beneficiario              82\n",
       "carater_atendimento              2\n",
       "tipo_consulta                    4\n",
       "dtype: int64"
      ]
     },
     "execution_count": 348,
     "metadata": {},
     "output_type": "execute_result"
    }
   ],
   "source": [
    "#verificando os atributos com valores únicos no dataset\n",
    "df_guias.nunique()"
   ]
  },
  {
   "cell_type": "markdown",
   "id": "6d7aea39",
   "metadata": {},
   "source": [
    "## Trabalhando com o Dataset localizacao_operadoras.csv"
   ]
  },
  {
   "cell_type": "code",
   "execution_count": 349,
   "id": "843d9317",
   "metadata": {},
   "outputs": [],
   "source": [
    "#importando o dataset para analise\n",
    "df_local = pd.read_csv('localizacao_operadoras.csv', sep= ';', encoding='UTF-8')"
   ]
  },
  {
   "cell_type": "code",
   "execution_count": 350,
   "id": "1801c642",
   "metadata": {},
   "outputs": [
    {
     "name": "stdout",
     "output_type": "stream",
     "text": [
      "Numero de Linhas = 11951\n",
      "Numero de Colunas = 4\n"
     ]
    }
   ],
   "source": [
    "#visualizando a quantidade de linhas e colunas do dataset\n",
    "print(\"Numero de Linhas =\",df_local.shape[0])\n",
    "print(\"Numero de Colunas =\",df_local.shape[1])\n"
   ]
  },
  {
   "cell_type": "code",
   "execution_count": 351,
   "id": "56acf8b6",
   "metadata": {},
   "outputs": [
    {
     "data": {
      "text/html": [
       "<div>\n",
       "<style scoped>\n",
       "    .dataframe tbody tr th:only-of-type {\n",
       "        vertical-align: middle;\n",
       "    }\n",
       "\n",
       "    .dataframe tbody tr th {\n",
       "        vertical-align: top;\n",
       "    }\n",
       "\n",
       "    .dataframe thead th {\n",
       "        text-align: right;\n",
       "    }\n",
       "</style>\n",
       "<table border=\"1\" class=\"dataframe\">\n",
       "  <thead>\n",
       "    <tr style=\"text-align: right;\">\n",
       "      <th></th>\n",
       "      <th>codigo</th>\n",
       "      <th>municipio</th>\n",
       "      <th>estado</th>\n",
       "      <th>pais</th>\n",
       "    </tr>\n",
       "  </thead>\n",
       "  <tbody>\n",
       "    <tr>\n",
       "      <th>0</th>\n",
       "      <td>178</td>\n",
       "      <td>NOVA OLINDA DO NORTE</td>\n",
       "      <td>AMAZONAS</td>\n",
       "      <td>BRASIL</td>\n",
       "    </tr>\n",
       "    <tr>\n",
       "      <th>1</th>\n",
       "      <td>173</td>\n",
       "      <td>MANAUS</td>\n",
       "      <td>AMAZONAS</td>\n",
       "      <td>BRASIL</td>\n",
       "    </tr>\n",
       "    <tr>\n",
       "      <th>2</th>\n",
       "      <td>202</td>\n",
       "      <td>FERREIRA GOMES</td>\n",
       "      <td>AMAPA</td>\n",
       "      <td>BRASIL</td>\n",
       "    </tr>\n",
       "    <tr>\n",
       "      <th>3</th>\n",
       "      <td>202</td>\n",
       "      <td>FERREIRA GOMES</td>\n",
       "      <td>AMAPA</td>\n",
       "      <td>BRASIL</td>\n",
       "    </tr>\n",
       "    <tr>\n",
       "      <th>4</th>\n",
       "      <td>179</td>\n",
       "      <td>NOVO AIRAO</td>\n",
       "      <td>AMAZONAS</td>\n",
       "      <td>BRASIL</td>\n",
       "    </tr>\n",
       "  </tbody>\n",
       "</table>\n",
       "</div>"
      ],
      "text/plain": [
       "   codigo             municipio    estado    pais\n",
       "0     178  NOVA OLINDA DO NORTE  AMAZONAS  BRASIL\n",
       "1     173                MANAUS  AMAZONAS  BRASIL\n",
       "2     202        FERREIRA GOMES     AMAPA  BRASIL\n",
       "3     202        FERREIRA GOMES     AMAPA  BRASIL\n",
       "4     179            NOVO AIRAO  AMAZONAS  BRASIL"
      ]
     },
     "execution_count": 351,
     "metadata": {},
     "output_type": "execute_result"
    }
   ],
   "source": [
    "#visualizando as 5 primeiras linhas do dataset\n",
    "df_local.head()"
   ]
  },
  {
   "cell_type": "code",
   "execution_count": 352,
   "id": "5e7ba7ee",
   "metadata": {},
   "outputs": [
    {
     "data": {
      "text/html": [
       "<div>\n",
       "<style scoped>\n",
       "    .dataframe tbody tr th:only-of-type {\n",
       "        vertical-align: middle;\n",
       "    }\n",
       "\n",
       "    .dataframe tbody tr th {\n",
       "        vertical-align: top;\n",
       "    }\n",
       "\n",
       "    .dataframe thead th {\n",
       "        text-align: right;\n",
       "    }\n",
       "</style>\n",
       "<table border=\"1\" class=\"dataframe\">\n",
       "  <thead>\n",
       "    <tr style=\"text-align: right;\">\n",
       "      <th></th>\n",
       "      <th>codigo</th>\n",
       "      <th>municipio</th>\n",
       "      <th>estado</th>\n",
       "      <th>pais</th>\n",
       "    </tr>\n",
       "  </thead>\n",
       "  <tbody>\n",
       "    <tr>\n",
       "      <th>11946</th>\n",
       "      <td>865</td>\n",
       "      <td>IPIAU</td>\n",
       "      <td>BAHIA</td>\n",
       "      <td>BRASIL</td>\n",
       "    </tr>\n",
       "    <tr>\n",
       "      <th>11947</th>\n",
       "      <td>865</td>\n",
       "      <td>IPIAU</td>\n",
       "      <td>BAHIA</td>\n",
       "      <td>BRASIL</td>\n",
       "    </tr>\n",
       "    <tr>\n",
       "      <th>11948</th>\n",
       "      <td>233</td>\n",
       "      <td>ANTAS</td>\n",
       "      <td>BAHIA</td>\n",
       "      <td>BRASIL</td>\n",
       "    </tr>\n",
       "    <tr>\n",
       "      <th>11949</th>\n",
       "      <td>166</td>\n",
       "      <td>ITAPIRANGA</td>\n",
       "      <td>AMAZONAS</td>\n",
       "      <td>BRASIL</td>\n",
       "    </tr>\n",
       "    <tr>\n",
       "      <th>11950</th>\n",
       "      <td>6</td>\n",
       "      <td>CRUZEIRO DO SUL</td>\n",
       "      <td>ACRE</td>\n",
       "      <td>BRASIL</td>\n",
       "    </tr>\n",
       "  </tbody>\n",
       "</table>\n",
       "</div>"
      ],
      "text/plain": [
       "       codigo        municipio    estado    pais\n",
       "11946     865            IPIAU     BAHIA  BRASIL\n",
       "11947     865            IPIAU     BAHIA  BRASIL\n",
       "11948     233            ANTAS     BAHIA  BRASIL\n",
       "11949     166       ITAPIRANGA  AMAZONAS  BRASIL\n",
       "11950       6  CRUZEIRO DO SUL      ACRE  BRASIL"
      ]
     },
     "execution_count": 352,
     "metadata": {},
     "output_type": "execute_result"
    }
   ],
   "source": [
    "#visualizando as 5 ultimas linhas do dataset\n",
    "df_local.tail()"
   ]
  },
  {
   "cell_type": "code",
   "execution_count": 353,
   "id": "c43b62f8",
   "metadata": {},
   "outputs": [
    {
     "name": "stdout",
     "output_type": "stream",
     "text": [
      "<class 'pandas.core.frame.DataFrame'>\n",
      "RangeIndex: 11951 entries, 0 to 11950\n",
      "Data columns (total 4 columns):\n",
      " #   Column     Non-Null Count  Dtype \n",
      "---  ------     --------------  ----- \n",
      " 0   codigo     11951 non-null  int64 \n",
      " 1   municipio  11951 non-null  object\n",
      " 2   estado     11951 non-null  object\n",
      " 3   pais       11951 non-null  object\n",
      "dtypes: int64(1), object(3)\n",
      "memory usage: 373.6+ KB\n"
     ]
    }
   ],
   "source": [
    "#visualizando os tipos dos dados\n",
    "df_local.info()"
   ]
  },
  {
   "cell_type": "code",
   "execution_count": 354,
   "id": "79a3280b",
   "metadata": {},
   "outputs": [
    {
     "data": {
      "text/plain": [
       "codigo       0\n",
       "municipio    0\n",
       "estado       0\n",
       "pais         0\n",
       "dtype: int64"
      ]
     },
     "execution_count": 354,
     "metadata": {},
     "output_type": "execute_result"
    }
   ],
   "source": [
    "#verificando se existem campos nulos\n",
    "df_local.isnull().sum()"
   ]
  },
  {
   "cell_type": "code",
   "execution_count": 355,
   "id": "a3058512",
   "metadata": {},
   "outputs": [
    {
     "data": {
      "text/plain": [
       "codigo       141\n",
       "municipio    141\n",
       "estado         5\n",
       "pais           1\n",
       "dtype: int64"
      ]
     },
     "execution_count": 355,
     "metadata": {},
     "output_type": "execute_result"
    }
   ],
   "source": [
    "#verificando os atributos com valores únicos no dataset\n",
    "df_local.nunique()"
   ]
  },
  {
   "cell_type": "markdown",
   "id": "2dbd64ee",
   "metadata": {},
   "source": [
    "# Tratamento dos datasets"
   ]
  },
  {
   "cell_type": "markdown",
   "id": "2e5d79df",
   "metadata": {},
   "source": [
    "### Dataframe df_guias"
   ]
  },
  {
   "cell_type": "code",
   "execution_count": 356,
   "id": "c472fb9e",
   "metadata": {},
   "outputs": [
    {
     "data": {
      "text/html": [
       "<div>\n",
       "<style scoped>\n",
       "    .dataframe tbody tr th:only-of-type {\n",
       "        vertical-align: middle;\n",
       "    }\n",
       "\n",
       "    .dataframe tbody tr th {\n",
       "        vertical-align: top;\n",
       "    }\n",
       "\n",
       "    .dataframe thead th {\n",
       "        text-align: right;\n",
       "    }\n",
       "</style>\n",
       "<table border=\"1\" class=\"dataframe\">\n",
       "  <thead>\n",
       "    <tr style=\"text-align: right;\">\n",
       "      <th></th>\n",
       "      <th>codigo_servico</th>\n",
       "      <th>situacao</th>\n",
       "      <th>tipo</th>\n",
       "      <th>origem</th>\n",
       "      <th>faturado</th>\n",
       "      <th>codigo</th>\n",
       "      <th>auditoria</th>\n",
       "      <th>origem_beneficiario</th>\n",
       "      <th>codigo_executante</th>\n",
       "      <th>codigo_requisitante</th>\n",
       "      <th>especialidade_executante</th>\n",
       "      <th>especialidade_requisitante</th>\n",
       "      <th>plano_beneficiario</th>\n",
       "      <th>carater_atendimento</th>\n",
       "      <th>tipo_consulta</th>\n",
       "    </tr>\n",
       "  </thead>\n",
       "  <tbody>\n",
       "    <tr>\n",
       "      <th>0</th>\n",
       "      <td>1244</td>\n",
       "      <td>EFETIVADA</td>\n",
       "      <td>TRANSITO INTERNACAO</td>\n",
       "      <td>TRANSACAO</td>\n",
       "      <td>SIM</td>\n",
       "      <td>5672237</td>\n",
       "      <td>SIM</td>\n",
       "      <td>LOCAL</td>\n",
       "      <td>178</td>\n",
       "      <td>178</td>\n",
       "      <td>278</td>\n",
       "      <td>278</td>\n",
       "      <td>563</td>\n",
       "      <td>ELETIVA/PRIMEIRA CONSULTA</td>\n",
       "      <td>NAO CONSULTA</td>\n",
       "    </tr>\n",
       "    <tr>\n",
       "      <th>1</th>\n",
       "      <td>2496</td>\n",
       "      <td>PARCIALMENTE AUTORIZADA</td>\n",
       "      <td>TRANSITO INTERNACAO</td>\n",
       "      <td>TRANSACAO</td>\n",
       "      <td>NAO</td>\n",
       "      <td>5861322</td>\n",
       "      <td>SIM</td>\n",
       "      <td>LOCAL</td>\n",
       "      <td>173</td>\n",
       "      <td>173</td>\n",
       "      <td>278</td>\n",
       "      <td>278</td>\n",
       "      <td>531</td>\n",
       "      <td>URGENCIA/EMERGENCIA</td>\n",
       "      <td>NAO CONSULTA</td>\n",
       "    </tr>\n",
       "    <tr>\n",
       "      <th>2</th>\n",
       "      <td>2500</td>\n",
       "      <td>EFETIVADA</td>\n",
       "      <td>TRANSITO INTERNACAO</td>\n",
       "      <td>TRANSACAO</td>\n",
       "      <td>SIM</td>\n",
       "      <td>5332998</td>\n",
       "      <td>SIM</td>\n",
       "      <td>LOCAL</td>\n",
       "      <td>202</td>\n",
       "      <td>202</td>\n",
       "      <td>278</td>\n",
       "      <td>278</td>\n",
       "      <td>538</td>\n",
       "      <td>URGENCIA/EMERGENCIA</td>\n",
       "      <td>NAO CONSULTA</td>\n",
       "    </tr>\n",
       "    <tr>\n",
       "      <th>3</th>\n",
       "      <td>9350</td>\n",
       "      <td>EFETIVADA</td>\n",
       "      <td>TRANSITO INTERNACAO</td>\n",
       "      <td>TRANSACAO</td>\n",
       "      <td>SIM</td>\n",
       "      <td>5332998</td>\n",
       "      <td>SIM</td>\n",
       "      <td>LOCAL</td>\n",
       "      <td>202</td>\n",
       "      <td>202</td>\n",
       "      <td>278</td>\n",
       "      <td>278</td>\n",
       "      <td>538</td>\n",
       "      <td>URGENCIA/EMERGENCIA</td>\n",
       "      <td>NAO CONSULTA</td>\n",
       "    </tr>\n",
       "    <tr>\n",
       "      <th>4</th>\n",
       "      <td>12076</td>\n",
       "      <td>PARCIALMENTE AUTORIZADA</td>\n",
       "      <td>TRANSITO INTERNACAO</td>\n",
       "      <td>TRANSACAO</td>\n",
       "      <td>NAO</td>\n",
       "      <td>5581250</td>\n",
       "      <td>SIM</td>\n",
       "      <td>LOCAL</td>\n",
       "      <td>179</td>\n",
       "      <td>179</td>\n",
       "      <td>278</td>\n",
       "      <td>278</td>\n",
       "      <td>622</td>\n",
       "      <td>ELETIVA/PRIMEIRA CONSULTA</td>\n",
       "      <td>NAO CONSULTA</td>\n",
       "    </tr>\n",
       "  </tbody>\n",
       "</table>\n",
       "</div>"
      ],
      "text/plain": [
       "  codigo_servico                 situacao                 tipo     origem  \\\n",
       "0           1244                EFETIVADA  TRANSITO INTERNACAO  TRANSACAO   \n",
       "1           2496  PARCIALMENTE AUTORIZADA  TRANSITO INTERNACAO  TRANSACAO   \n",
       "2           2500                EFETIVADA  TRANSITO INTERNACAO  TRANSACAO   \n",
       "3           9350                EFETIVADA  TRANSITO INTERNACAO  TRANSACAO   \n",
       "4          12076  PARCIALMENTE AUTORIZADA  TRANSITO INTERNACAO  TRANSACAO   \n",
       "\n",
       "  faturado   codigo auditoria origem_beneficiario  codigo_executante  \\\n",
       "0      SIM  5672237       SIM               LOCAL                178   \n",
       "1      NAO  5861322       SIM               LOCAL                173   \n",
       "2      SIM  5332998       SIM               LOCAL                202   \n",
       "3      SIM  5332998       SIM               LOCAL                202   \n",
       "4      NAO  5581250       SIM               LOCAL                179   \n",
       "\n",
       "   codigo_requisitante  especialidade_executante  especialidade_requisitante  \\\n",
       "0                  178                       278                         278   \n",
       "1                  173                       278                         278   \n",
       "2                  202                       278                         278   \n",
       "3                  202                       278                         278   \n",
       "4                  179                       278                         278   \n",
       "\n",
       "   plano_beneficiario        carater_atendimento tipo_consulta  \n",
       "0                 563  ELETIVA/PRIMEIRA CONSULTA  NAO CONSULTA  \n",
       "1                 531        URGENCIA/EMERGENCIA  NAO CONSULTA  \n",
       "2                 538        URGENCIA/EMERGENCIA  NAO CONSULTA  \n",
       "3                 538        URGENCIA/EMERGENCIA  NAO CONSULTA  \n",
       "4                 622  ELETIVA/PRIMEIRA CONSULTA  NAO CONSULTA  "
      ]
     },
     "execution_count": 356,
     "metadata": {},
     "output_type": "execute_result"
    }
   ],
   "source": [
    "#visualizando as 5 primeiras linhas do dataframe\n",
    "df_guias.head()"
   ]
  },
  {
   "cell_type": "code",
   "execution_count": 357,
   "id": "a29b1419",
   "metadata": {},
   "outputs": [],
   "source": [
    "#remoção de algumas colunas\n",
    "df_guias = df_guias.drop(columns=['faturado','auditoria'])"
   ]
  },
  {
   "cell_type": "code",
   "execution_count": 358,
   "id": "611f6be7",
   "metadata": {},
   "outputs": [
    {
     "name": "stdout",
     "output_type": "stream",
     "text": [
      "Numero de Linhas = 11951\n",
      "Numero de Colunas = 13\n"
     ]
    }
   ],
   "source": [
    "#visualizando a quantidade de linhas e colunas do dataset apos a exclusão das colunas\n",
    "print(\"Numero de Linhas =\",df_guias.shape[0])\n",
    "print(\"Numero de Colunas =\",df_guias.shape[1])\n"
   ]
  },
  {
   "cell_type": "code",
   "execution_count": 359,
   "id": "7ef98abf",
   "metadata": {},
   "outputs": [],
   "source": [
    "#renomeando algumas colunas\n",
    "df_guias = df_guias.rename(columns={'codigo_servico': 'cd_servico','codigo':'cd_guia','codigo_executante': 'cd_executante','codigo_requisitante': 'cd_requisitante','especialidade_executante':'esp_executante','especialidade_requisitante':'esp_requisitante','carater_atendimento': 'tipo_atendimento'})"
   ]
  },
  {
   "cell_type": "code",
   "execution_count": 360,
   "id": "daf8382e",
   "metadata": {},
   "outputs": [
    {
     "data": {
      "text/html": [
       "<div>\n",
       "<style scoped>\n",
       "    .dataframe tbody tr th:only-of-type {\n",
       "        vertical-align: middle;\n",
       "    }\n",
       "\n",
       "    .dataframe tbody tr th {\n",
       "        vertical-align: top;\n",
       "    }\n",
       "\n",
       "    .dataframe thead th {\n",
       "        text-align: right;\n",
       "    }\n",
       "</style>\n",
       "<table border=\"1\" class=\"dataframe\">\n",
       "  <thead>\n",
       "    <tr style=\"text-align: right;\">\n",
       "      <th></th>\n",
       "      <th>cd_servico</th>\n",
       "      <th>situacao</th>\n",
       "      <th>tipo</th>\n",
       "      <th>origem</th>\n",
       "      <th>cd_guia</th>\n",
       "      <th>origem_beneficiario</th>\n",
       "      <th>cd_executante</th>\n",
       "      <th>cd_requisitante</th>\n",
       "      <th>esp_executante</th>\n",
       "      <th>esp_requisitante</th>\n",
       "      <th>plano_beneficiario</th>\n",
       "      <th>tipo_atendimento</th>\n",
       "      <th>tipo_consulta</th>\n",
       "    </tr>\n",
       "  </thead>\n",
       "  <tbody>\n",
       "    <tr>\n",
       "      <th>0</th>\n",
       "      <td>1244</td>\n",
       "      <td>EFETIVADA</td>\n",
       "      <td>TRANSITO INTERNACAO</td>\n",
       "      <td>TRANSACAO</td>\n",
       "      <td>5672237</td>\n",
       "      <td>LOCAL</td>\n",
       "      <td>178</td>\n",
       "      <td>178</td>\n",
       "      <td>278</td>\n",
       "      <td>278</td>\n",
       "      <td>563</td>\n",
       "      <td>ELETIVA/PRIMEIRA CONSULTA</td>\n",
       "      <td>NAO CONSULTA</td>\n",
       "    </tr>\n",
       "    <tr>\n",
       "      <th>1</th>\n",
       "      <td>2496</td>\n",
       "      <td>PARCIALMENTE AUTORIZADA</td>\n",
       "      <td>TRANSITO INTERNACAO</td>\n",
       "      <td>TRANSACAO</td>\n",
       "      <td>5861322</td>\n",
       "      <td>LOCAL</td>\n",
       "      <td>173</td>\n",
       "      <td>173</td>\n",
       "      <td>278</td>\n",
       "      <td>278</td>\n",
       "      <td>531</td>\n",
       "      <td>URGENCIA/EMERGENCIA</td>\n",
       "      <td>NAO CONSULTA</td>\n",
       "    </tr>\n",
       "    <tr>\n",
       "      <th>2</th>\n",
       "      <td>2500</td>\n",
       "      <td>EFETIVADA</td>\n",
       "      <td>TRANSITO INTERNACAO</td>\n",
       "      <td>TRANSACAO</td>\n",
       "      <td>5332998</td>\n",
       "      <td>LOCAL</td>\n",
       "      <td>202</td>\n",
       "      <td>202</td>\n",
       "      <td>278</td>\n",
       "      <td>278</td>\n",
       "      <td>538</td>\n",
       "      <td>URGENCIA/EMERGENCIA</td>\n",
       "      <td>NAO CONSULTA</td>\n",
       "    </tr>\n",
       "    <tr>\n",
       "      <th>3</th>\n",
       "      <td>9350</td>\n",
       "      <td>EFETIVADA</td>\n",
       "      <td>TRANSITO INTERNACAO</td>\n",
       "      <td>TRANSACAO</td>\n",
       "      <td>5332998</td>\n",
       "      <td>LOCAL</td>\n",
       "      <td>202</td>\n",
       "      <td>202</td>\n",
       "      <td>278</td>\n",
       "      <td>278</td>\n",
       "      <td>538</td>\n",
       "      <td>URGENCIA/EMERGENCIA</td>\n",
       "      <td>NAO CONSULTA</td>\n",
       "    </tr>\n",
       "    <tr>\n",
       "      <th>4</th>\n",
       "      <td>12076</td>\n",
       "      <td>PARCIALMENTE AUTORIZADA</td>\n",
       "      <td>TRANSITO INTERNACAO</td>\n",
       "      <td>TRANSACAO</td>\n",
       "      <td>5581250</td>\n",
       "      <td>LOCAL</td>\n",
       "      <td>179</td>\n",
       "      <td>179</td>\n",
       "      <td>278</td>\n",
       "      <td>278</td>\n",
       "      <td>622</td>\n",
       "      <td>ELETIVA/PRIMEIRA CONSULTA</td>\n",
       "      <td>NAO CONSULTA</td>\n",
       "    </tr>\n",
       "  </tbody>\n",
       "</table>\n",
       "</div>"
      ],
      "text/plain": [
       "  cd_servico                 situacao                 tipo     origem  \\\n",
       "0       1244                EFETIVADA  TRANSITO INTERNACAO  TRANSACAO   \n",
       "1       2496  PARCIALMENTE AUTORIZADA  TRANSITO INTERNACAO  TRANSACAO   \n",
       "2       2500                EFETIVADA  TRANSITO INTERNACAO  TRANSACAO   \n",
       "3       9350                EFETIVADA  TRANSITO INTERNACAO  TRANSACAO   \n",
       "4      12076  PARCIALMENTE AUTORIZADA  TRANSITO INTERNACAO  TRANSACAO   \n",
       "\n",
       "   cd_guia origem_beneficiario  cd_executante  cd_requisitante  \\\n",
       "0  5672237               LOCAL            178              178   \n",
       "1  5861322               LOCAL            173              173   \n",
       "2  5332998               LOCAL            202              202   \n",
       "3  5332998               LOCAL            202              202   \n",
       "4  5581250               LOCAL            179              179   \n",
       "\n",
       "   esp_executante  esp_requisitante  plano_beneficiario  \\\n",
       "0             278               278                 563   \n",
       "1             278               278                 531   \n",
       "2             278               278                 538   \n",
       "3             278               278                 538   \n",
       "4             278               278                 622   \n",
       "\n",
       "            tipo_atendimento tipo_consulta  \n",
       "0  ELETIVA/PRIMEIRA CONSULTA  NAO CONSULTA  \n",
       "1        URGENCIA/EMERGENCIA  NAO CONSULTA  \n",
       "2        URGENCIA/EMERGENCIA  NAO CONSULTA  \n",
       "3        URGENCIA/EMERGENCIA  NAO CONSULTA  \n",
       "4  ELETIVA/PRIMEIRA CONSULTA  NAO CONSULTA  "
      ]
     },
     "execution_count": 360,
     "metadata": {},
     "output_type": "execute_result"
    }
   ],
   "source": [
    "#visualizando as 5 primeiras linhas do dataframe apos renomear as algumas colunas\n",
    "df_guias.head()"
   ]
  },
  {
   "cell_type": "code",
   "execution_count": 361,
   "id": "7294fc97",
   "metadata": {},
   "outputs": [
    {
     "data": {
      "text/plain": [
       "cd_servico             object\n",
       "situacao               object\n",
       "tipo                   object\n",
       "origem                 object\n",
       "cd_guia                 int64\n",
       "origem_beneficiario    object\n",
       "cd_executante           int64\n",
       "cd_requisitante         int64\n",
       "esp_executante          int64\n",
       "esp_requisitante        int64\n",
       "plano_beneficiario      int64\n",
       "tipo_atendimento       object\n",
       "tipo_consulta          object\n",
       "dtype: object"
      ]
     },
     "execution_count": 361,
     "metadata": {},
     "output_type": "execute_result"
    }
   ],
   "source": [
    "#verificando os tipos de dados das colunas\n",
    "df_guias.dtypes"
   ]
  },
  {
   "cell_type": "code",
   "execution_count": 362,
   "id": "0cfc11a2",
   "metadata": {},
   "outputs": [],
   "source": [
    "#removendo pontos e traços da coluna\n",
    "df_guias['cd_servico'] = df_guias['cd_servico'].apply(lambda caracter: caracter.replace('.','').replace('-',''))"
   ]
  },
  {
   "cell_type": "code",
   "execution_count": 363,
   "id": "2fe70d2b",
   "metadata": {},
   "outputs": [],
   "source": [
    "#convertendo a coluna para o tipo inteiro\n",
    "df_guias['cd_servico'] = df_guias['cd_servico'].astype(int)"
   ]
  },
  {
   "cell_type": "code",
   "execution_count": 364,
   "id": "c0d3c9bf",
   "metadata": {},
   "outputs": [
    {
     "data": {
      "text/plain": [
       "cd_servico              int32\n",
       "situacao               object\n",
       "tipo                   object\n",
       "origem                 object\n",
       "cd_guia                 int64\n",
       "origem_beneficiario    object\n",
       "cd_executante           int64\n",
       "cd_requisitante         int64\n",
       "esp_executante          int64\n",
       "esp_requisitante        int64\n",
       "plano_beneficiario      int64\n",
       "tipo_atendimento       object\n",
       "tipo_consulta          object\n",
       "dtype: object"
      ]
     },
     "execution_count": 364,
     "metadata": {},
     "output_type": "execute_result"
    }
   ],
   "source": [
    "#verificando os tipos de dados das colunas apos a conversão\n",
    "df_guias.dtypes"
   ]
  },
  {
   "cell_type": "code",
   "execution_count": 365,
   "id": "2cc88500",
   "metadata": {},
   "outputs": [
    {
     "data": {
      "text/plain": [
       "ELETIVA/PRIMEIRA CONSULTA    10317\n",
       "URGENCIA/EMERGENCIA           1634\n",
       "Name: tipo_atendimento, dtype: int64"
      ]
     },
     "execution_count": 365,
     "metadata": {},
     "output_type": "execute_result"
    }
   ],
   "source": [
    "#visualizando informações\n",
    "df_guias['tipo_atendimento'].value_counts()"
   ]
  },
  {
   "cell_type": "code",
   "execution_count": 366,
   "id": "acfe435e",
   "metadata": {},
   "outputs": [],
   "source": [
    "#alterando os conteudos da coluna\n",
    "df_guias['tipo_atendimento'] = df_guias['tipo_atendimento'].apply(lambda caracter: caracter.replace('ELETIVA/PRIMEIRA CONSULTA','ELETIVA').replace('URGENCIA/EMERGENCIA','URGENCIA'))"
   ]
  },
  {
   "cell_type": "code",
   "execution_count": 367,
   "id": "290c4302",
   "metadata": {},
   "outputs": [
    {
     "data": {
      "text/plain": [
       "ELETIVA     10317\n",
       "URGENCIA     1634\n",
       "Name: tipo_atendimento, dtype: int64"
      ]
     },
     "execution_count": 367,
     "metadata": {},
     "output_type": "execute_result"
    }
   ],
   "source": [
    "#conteudo apos a alteração\n",
    "df_guias['tipo_atendimento'].value_counts()"
   ]
  },
  {
   "cell_type": "code",
   "execution_count": 368,
   "id": "85e696f2",
   "metadata": {
    "scrolled": true
   },
   "outputs": [
    {
     "data": {
      "text/plain": [
       "EFETIVADA                  8034\n",
       "CANCELADA                  1782\n",
       "NEGADA                     1361\n",
       "PARCIALMENTE AUTORIZADA     690\n",
       "AUTORIZADA                   67\n",
       "EM AUDITORIA                 17\n",
       "Name: situacao, dtype: int64"
      ]
     },
     "execution_count": 368,
     "metadata": {},
     "output_type": "execute_result"
    }
   ],
   "source": [
    "#visualizando informações\n",
    "df_guias['situacao'].value_counts()"
   ]
  },
  {
   "cell_type": "code",
   "execution_count": 369,
   "id": "9326e702",
   "metadata": {},
   "outputs": [],
   "source": [
    "#nessa coluna temos 6 tipos de situacao, precisamos das linhas que tenham apenas as situações AUTORIZADA E NEGADA.\n",
    "#iremos manter a situacao EFETIVADA pois a mesma equivale a AUTORIZADA no dataset original\n",
    "\n",
    "#removendo as linhas com as situações: CANCELADA,PARCIALMENTE AUTORIZADA e EM AUDITORIA\n",
    "df_guias = df_guias.drop(df_guias.loc[df_guias['situacao'] == 'CANCELADA'].index)\n",
    "df_guias = df_guias.drop(df_guias.loc[df_guias['situacao'] == 'PARCIALMENTE AUTORIZADA'].index)\n",
    "df_guias = df_guias.drop(df_guias.loc[df_guias['situacao'] == 'EM AUDITORIA'].index)"
   ]
  },
  {
   "cell_type": "code",
   "execution_count": 370,
   "id": "0890f9e9",
   "metadata": {},
   "outputs": [
    {
     "data": {
      "text/plain": [
       "EFETIVADA     8034\n",
       "NEGADA        1361\n",
       "AUTORIZADA      67\n",
       "Name: situacao, dtype: int64"
      ]
     },
     "execution_count": 370,
     "metadata": {},
     "output_type": "execute_result"
    }
   ],
   "source": [
    "#visualizando informações\n",
    "df_guias['situacao'].value_counts()"
   ]
  },
  {
   "cell_type": "code",
   "execution_count": 371,
   "id": "22f6a1e4",
   "metadata": {},
   "outputs": [],
   "source": [
    "#renomeando a situacao EFETIVADA para AUTORIZADA\n",
    "df_guias['situacao'] = df_guias['situacao'].apply(lambda x: x.replace('EFETIVADA','AUTORIZADA'))"
   ]
  },
  {
   "cell_type": "code",
   "execution_count": 372,
   "id": "fa6a431a",
   "metadata": {},
   "outputs": [
    {
     "data": {
      "text/plain": [
       "AUTORIZADA    8101\n",
       "NEGADA        1361\n",
       "Name: situacao, dtype: int64"
      ]
     },
     "execution_count": 372,
     "metadata": {},
     "output_type": "execute_result"
    }
   ],
   "source": [
    "#visualizando informações\n",
    "df_guias['situacao'].value_counts()"
   ]
  },
  {
   "cell_type": "code",
   "execution_count": 373,
   "id": "4c698f6f",
   "metadata": {},
   "outputs": [
    {
     "data": {
      "text/plain": [
       "(9462, 13)"
      ]
     },
     "execution_count": 373,
     "metadata": {},
     "output_type": "execute_result"
    }
   ],
   "source": [
    "#vendo o shape do dataframe apos as alterações\n",
    "df_guias.shape"
   ]
  },
  {
   "cell_type": "markdown",
   "id": "87c876ad",
   "metadata": {},
   "source": [
    "### Dataframe localizacao_operadoras.csv"
   ]
  },
  {
   "cell_type": "code",
   "execution_count": 374,
   "id": "20074a0e",
   "metadata": {},
   "outputs": [
    {
     "data": {
      "text/html": [
       "<div>\n",
       "<style scoped>\n",
       "    .dataframe tbody tr th:only-of-type {\n",
       "        vertical-align: middle;\n",
       "    }\n",
       "\n",
       "    .dataframe tbody tr th {\n",
       "        vertical-align: top;\n",
       "    }\n",
       "\n",
       "    .dataframe thead th {\n",
       "        text-align: right;\n",
       "    }\n",
       "</style>\n",
       "<table border=\"1\" class=\"dataframe\">\n",
       "  <thead>\n",
       "    <tr style=\"text-align: right;\">\n",
       "      <th></th>\n",
       "      <th>codigo</th>\n",
       "      <th>municipio</th>\n",
       "      <th>estado</th>\n",
       "      <th>pais</th>\n",
       "    </tr>\n",
       "  </thead>\n",
       "  <tbody>\n",
       "    <tr>\n",
       "      <th>0</th>\n",
       "      <td>178</td>\n",
       "      <td>NOVA OLINDA DO NORTE</td>\n",
       "      <td>AMAZONAS</td>\n",
       "      <td>BRASIL</td>\n",
       "    </tr>\n",
       "    <tr>\n",
       "      <th>1</th>\n",
       "      <td>173</td>\n",
       "      <td>MANAUS</td>\n",
       "      <td>AMAZONAS</td>\n",
       "      <td>BRASIL</td>\n",
       "    </tr>\n",
       "    <tr>\n",
       "      <th>2</th>\n",
       "      <td>202</td>\n",
       "      <td>FERREIRA GOMES</td>\n",
       "      <td>AMAPA</td>\n",
       "      <td>BRASIL</td>\n",
       "    </tr>\n",
       "    <tr>\n",
       "      <th>3</th>\n",
       "      <td>202</td>\n",
       "      <td>FERREIRA GOMES</td>\n",
       "      <td>AMAPA</td>\n",
       "      <td>BRASIL</td>\n",
       "    </tr>\n",
       "    <tr>\n",
       "      <th>4</th>\n",
       "      <td>179</td>\n",
       "      <td>NOVO AIRAO</td>\n",
       "      <td>AMAZONAS</td>\n",
       "      <td>BRASIL</td>\n",
       "    </tr>\n",
       "  </tbody>\n",
       "</table>\n",
       "</div>"
      ],
      "text/plain": [
       "   codigo             municipio    estado    pais\n",
       "0     178  NOVA OLINDA DO NORTE  AMAZONAS  BRASIL\n",
       "1     173                MANAUS  AMAZONAS  BRASIL\n",
       "2     202        FERREIRA GOMES     AMAPA  BRASIL\n",
       "3     202        FERREIRA GOMES     AMAPA  BRASIL\n",
       "4     179            NOVO AIRAO  AMAZONAS  BRASIL"
      ]
     },
     "execution_count": 374,
     "metadata": {},
     "output_type": "execute_result"
    }
   ],
   "source": [
    "df_local.head()"
   ]
  },
  {
   "cell_type": "code",
   "execution_count": 375,
   "id": "e8fb2da1",
   "metadata": {},
   "outputs": [],
   "source": [
    "#renomeando coluna\n",
    "df_local = df_local.rename(columns={'codigo': 'cd_operadora'})"
   ]
  },
  {
   "cell_type": "code",
   "execution_count": 376,
   "id": "4f062b85",
   "metadata": {},
   "outputs": [
    {
     "name": "stdout",
     "output_type": "stream",
     "text": [
      "Numero de Linhas = 11951\n",
      "Numero de Colunas = 4\n"
     ]
    }
   ],
   "source": [
    "#visualizando a quantidade de linhas e colunas do dataset apos a exclusão das colunas\n",
    "print(\"Numero de Linhas =\",df_local.shape[0])\n",
    "print(\"Numero de Colunas =\",df_local.shape[1])"
   ]
  },
  {
   "cell_type": "code",
   "execution_count": 377,
   "id": "3c9a875c",
   "metadata": {},
   "outputs": [
    {
     "data": {
      "text/html": [
       "<div>\n",
       "<style scoped>\n",
       "    .dataframe tbody tr th:only-of-type {\n",
       "        vertical-align: middle;\n",
       "    }\n",
       "\n",
       "    .dataframe tbody tr th {\n",
       "        vertical-align: top;\n",
       "    }\n",
       "\n",
       "    .dataframe thead th {\n",
       "        text-align: right;\n",
       "    }\n",
       "</style>\n",
       "<table border=\"1\" class=\"dataframe\">\n",
       "  <thead>\n",
       "    <tr style=\"text-align: right;\">\n",
       "      <th></th>\n",
       "      <th>cd_operadora</th>\n",
       "      <th>municipio</th>\n",
       "      <th>estado</th>\n",
       "      <th>pais</th>\n",
       "    </tr>\n",
       "  </thead>\n",
       "  <tbody>\n",
       "    <tr>\n",
       "      <th>0</th>\n",
       "      <td>178</td>\n",
       "      <td>NOVA OLINDA DO NORTE</td>\n",
       "      <td>AMAZONAS</td>\n",
       "      <td>BRASIL</td>\n",
       "    </tr>\n",
       "    <tr>\n",
       "      <th>1</th>\n",
       "      <td>173</td>\n",
       "      <td>MANAUS</td>\n",
       "      <td>AMAZONAS</td>\n",
       "      <td>BRASIL</td>\n",
       "    </tr>\n",
       "    <tr>\n",
       "      <th>2</th>\n",
       "      <td>202</td>\n",
       "      <td>FERREIRA GOMES</td>\n",
       "      <td>AMAPA</td>\n",
       "      <td>BRASIL</td>\n",
       "    </tr>\n",
       "    <tr>\n",
       "      <th>3</th>\n",
       "      <td>202</td>\n",
       "      <td>FERREIRA GOMES</td>\n",
       "      <td>AMAPA</td>\n",
       "      <td>BRASIL</td>\n",
       "    </tr>\n",
       "    <tr>\n",
       "      <th>4</th>\n",
       "      <td>179</td>\n",
       "      <td>NOVO AIRAO</td>\n",
       "      <td>AMAZONAS</td>\n",
       "      <td>BRASIL</td>\n",
       "    </tr>\n",
       "  </tbody>\n",
       "</table>\n",
       "</div>"
      ],
      "text/plain": [
       "   cd_operadora             municipio    estado    pais\n",
       "0           178  NOVA OLINDA DO NORTE  AMAZONAS  BRASIL\n",
       "1           173                MANAUS  AMAZONAS  BRASIL\n",
       "2           202        FERREIRA GOMES     AMAPA  BRASIL\n",
       "3           202        FERREIRA GOMES     AMAPA  BRASIL\n",
       "4           179            NOVO AIRAO  AMAZONAS  BRASIL"
      ]
     },
     "execution_count": 377,
     "metadata": {},
     "output_type": "execute_result"
    }
   ],
   "source": [
    "#visualizando as 5 primeiras linhas do dataframe apos alterações\n",
    "df_local.head()"
   ]
  },
  {
   "cell_type": "code",
   "execution_count": 378,
   "id": "d85d0d74",
   "metadata": {},
   "outputs": [
    {
     "data": {
      "text/plain": [
       "cd_operadora     int64\n",
       "municipio       object\n",
       "estado          object\n",
       "pais            object\n",
       "dtype: object"
      ]
     },
     "execution_count": 378,
     "metadata": {},
     "output_type": "execute_result"
    }
   ],
   "source": [
    "#verificando os tipos de dados das colunas\n",
    "df_local.dtypes"
   ]
  },
  {
   "cell_type": "markdown",
   "id": "ae2f3cd9",
   "metadata": {},
   "source": [
    "# Unindo os dois datasets e realizando algumas analises\n",
    "- Nessa etapa vamos unir o dataset  df_guias e df_local e transforma-los em um dataset chamado df_autorizacao.\n",
    "- Vamos realizar algumas analises"
   ]
  },
  {
   "cell_type": "markdown",
   "id": "380985d5",
   "metadata": {},
   "source": [
    "### Unindo os dois datasets"
   ]
  },
  {
   "cell_type": "code",
   "execution_count": 379,
   "id": "af28c88c",
   "metadata": {},
   "outputs": [
    {
     "name": "stdout",
     "output_type": "stream",
     "text": [
      "Numero de Linhas = 9462\n",
      "Numero de Colunas = 13\n"
     ]
    }
   ],
   "source": [
    "#visualizando a quantidade de linhas e colunas do dataset antes da junção\n",
    "print(\"Numero de Linhas =\",df_guias.shape[0])\n",
    "print(\"Numero de Colunas =\",df_guias.shape[1])\n"
   ]
  },
  {
   "cell_type": "code",
   "execution_count": 380,
   "id": "829ffcc3",
   "metadata": {},
   "outputs": [
    {
     "name": "stdout",
     "output_type": "stream",
     "text": [
      "Numero de Linhas = 11951\n",
      "Numero de Colunas = 4\n"
     ]
    }
   ],
   "source": [
    "#visualizando a quantidade de linhas e colunas do dataset antes da junção\n",
    "print(\"Numero de Linhas =\",df_local.shape[0])\n",
    "print(\"Numero de Colunas =\",df_local.shape[1])\n"
   ]
  },
  {
   "cell_type": "code",
   "execution_count": 381,
   "id": "fc85228e",
   "metadata": {},
   "outputs": [
    {
     "data": {
      "text/plain": [
       "(9462, 17)"
      ]
     },
     "execution_count": 381,
     "metadata": {},
     "output_type": "execute_result"
    }
   ],
   "source": [
    "#unindo os dois datasets usando join \n",
    "df_autorizacao = df_guias.join(df_local,lsuffix='cd_requisitante',rsuffix='cd_operadora',how='left')\n",
    "df_autorizacao.shape"
   ]
  },
  {
   "cell_type": "code",
   "execution_count": 382,
   "id": "db046de7",
   "metadata": {},
   "outputs": [
    {
     "name": "stdout",
     "output_type": "stream",
     "text": [
      "Numero de Linhas = 9462\n",
      "Numero de Colunas = 17\n"
     ]
    }
   ],
   "source": [
    "#visualizando a quantidade de linhas e colunas do dataset apos a junção\n",
    "print(\"Numero de Linhas =\",df_autorizacao.shape[0])\n",
    "print(\"Numero de Colunas =\",df_autorizacao.shape[1])\n"
   ]
  },
  {
   "cell_type": "code",
   "execution_count": 383,
   "id": "849903c7",
   "metadata": {},
   "outputs": [
    {
     "data": {
      "text/html": [
       "<div>\n",
       "<style scoped>\n",
       "    .dataframe tbody tr th:only-of-type {\n",
       "        vertical-align: middle;\n",
       "    }\n",
       "\n",
       "    .dataframe tbody tr th {\n",
       "        vertical-align: top;\n",
       "    }\n",
       "\n",
       "    .dataframe thead th {\n",
       "        text-align: right;\n",
       "    }\n",
       "</style>\n",
       "<table border=\"1\" class=\"dataframe\">\n",
       "  <thead>\n",
       "    <tr style=\"text-align: right;\">\n",
       "      <th></th>\n",
       "      <th>cd_servico</th>\n",
       "      <th>situacao</th>\n",
       "      <th>tipo</th>\n",
       "      <th>origem</th>\n",
       "      <th>cd_guia</th>\n",
       "      <th>origem_beneficiario</th>\n",
       "      <th>cd_executante</th>\n",
       "      <th>cd_requisitante</th>\n",
       "      <th>esp_executante</th>\n",
       "      <th>esp_requisitante</th>\n",
       "      <th>plano_beneficiario</th>\n",
       "      <th>tipo_atendimento</th>\n",
       "      <th>tipo_consulta</th>\n",
       "      <th>cd_operadora</th>\n",
       "      <th>municipio</th>\n",
       "      <th>estado</th>\n",
       "      <th>pais</th>\n",
       "    </tr>\n",
       "  </thead>\n",
       "  <tbody>\n",
       "    <tr>\n",
       "      <th>0</th>\n",
       "      <td>1244</td>\n",
       "      <td>AUTORIZADA</td>\n",
       "      <td>TRANSITO INTERNACAO</td>\n",
       "      <td>TRANSACAO</td>\n",
       "      <td>5672237</td>\n",
       "      <td>LOCAL</td>\n",
       "      <td>178</td>\n",
       "      <td>178</td>\n",
       "      <td>278</td>\n",
       "      <td>278</td>\n",
       "      <td>563</td>\n",
       "      <td>ELETIVA</td>\n",
       "      <td>NAO CONSULTA</td>\n",
       "      <td>178</td>\n",
       "      <td>NOVA OLINDA DO NORTE</td>\n",
       "      <td>AMAZONAS</td>\n",
       "      <td>BRASIL</td>\n",
       "    </tr>\n",
       "    <tr>\n",
       "      <th>2</th>\n",
       "      <td>2500</td>\n",
       "      <td>AUTORIZADA</td>\n",
       "      <td>TRANSITO INTERNACAO</td>\n",
       "      <td>TRANSACAO</td>\n",
       "      <td>5332998</td>\n",
       "      <td>LOCAL</td>\n",
       "      <td>202</td>\n",
       "      <td>202</td>\n",
       "      <td>278</td>\n",
       "      <td>278</td>\n",
       "      <td>538</td>\n",
       "      <td>URGENCIA</td>\n",
       "      <td>NAO CONSULTA</td>\n",
       "      <td>202</td>\n",
       "      <td>FERREIRA GOMES</td>\n",
       "      <td>AMAPA</td>\n",
       "      <td>BRASIL</td>\n",
       "    </tr>\n",
       "    <tr>\n",
       "      <th>3</th>\n",
       "      <td>9350</td>\n",
       "      <td>AUTORIZADA</td>\n",
       "      <td>TRANSITO INTERNACAO</td>\n",
       "      <td>TRANSACAO</td>\n",
       "      <td>5332998</td>\n",
       "      <td>LOCAL</td>\n",
       "      <td>202</td>\n",
       "      <td>202</td>\n",
       "      <td>278</td>\n",
       "      <td>278</td>\n",
       "      <td>538</td>\n",
       "      <td>URGENCIA</td>\n",
       "      <td>NAO CONSULTA</td>\n",
       "      <td>202</td>\n",
       "      <td>FERREIRA GOMES</td>\n",
       "      <td>AMAPA</td>\n",
       "      <td>BRASIL</td>\n",
       "    </tr>\n",
       "    <tr>\n",
       "      <th>7</th>\n",
       "      <td>22403</td>\n",
       "      <td>AUTORIZADA</td>\n",
       "      <td>TRANSITO INTERNACAO</td>\n",
       "      <td>TRANSACAO</td>\n",
       "      <td>5404770</td>\n",
       "      <td>LOCAL</td>\n",
       "      <td>282</td>\n",
       "      <td>282</td>\n",
       "      <td>278</td>\n",
       "      <td>278</td>\n",
       "      <td>583</td>\n",
       "      <td>URGENCIA</td>\n",
       "      <td>NAO CONSULTA</td>\n",
       "      <td>282</td>\n",
       "      <td>CAIRU</td>\n",
       "      <td>BAHIA</td>\n",
       "      <td>BRASIL</td>\n",
       "    </tr>\n",
       "    <tr>\n",
       "      <th>8</th>\n",
       "      <td>24554</td>\n",
       "      <td>AUTORIZADA</td>\n",
       "      <td>TRANSITO SERVICO</td>\n",
       "      <td>TRANSACAO</td>\n",
       "      <td>5654489</td>\n",
       "      <td>LOCAL</td>\n",
       "      <td>236</td>\n",
       "      <td>236</td>\n",
       "      <td>278</td>\n",
       "      <td>278</td>\n",
       "      <td>537</td>\n",
       "      <td>ELETIVA</td>\n",
       "      <td>NAO CONSULTA</td>\n",
       "      <td>236</td>\n",
       "      <td>APORA</td>\n",
       "      <td>BAHIA</td>\n",
       "      <td>BRASIL</td>\n",
       "    </tr>\n",
       "  </tbody>\n",
       "</table>\n",
       "</div>"
      ],
      "text/plain": [
       "   cd_servico    situacao                 tipo     origem  cd_guia  \\\n",
       "0        1244  AUTORIZADA  TRANSITO INTERNACAO  TRANSACAO  5672237   \n",
       "2        2500  AUTORIZADA  TRANSITO INTERNACAO  TRANSACAO  5332998   \n",
       "3        9350  AUTORIZADA  TRANSITO INTERNACAO  TRANSACAO  5332998   \n",
       "7       22403  AUTORIZADA  TRANSITO INTERNACAO  TRANSACAO  5404770   \n",
       "8       24554  AUTORIZADA     TRANSITO SERVICO  TRANSACAO  5654489   \n",
       "\n",
       "  origem_beneficiario  cd_executante  cd_requisitante  esp_executante  \\\n",
       "0               LOCAL            178              178             278   \n",
       "2               LOCAL            202              202             278   \n",
       "3               LOCAL            202              202             278   \n",
       "7               LOCAL            282              282             278   \n",
       "8               LOCAL            236              236             278   \n",
       "\n",
       "   esp_requisitante  plano_beneficiario tipo_atendimento tipo_consulta  \\\n",
       "0               278                 563          ELETIVA  NAO CONSULTA   \n",
       "2               278                 538         URGENCIA  NAO CONSULTA   \n",
       "3               278                 538         URGENCIA  NAO CONSULTA   \n",
       "7               278                 583         URGENCIA  NAO CONSULTA   \n",
       "8               278                 537          ELETIVA  NAO CONSULTA   \n",
       "\n",
       "   cd_operadora             municipio    estado    pais  \n",
       "0           178  NOVA OLINDA DO NORTE  AMAZONAS  BRASIL  \n",
       "2           202        FERREIRA GOMES     AMAPA  BRASIL  \n",
       "3           202        FERREIRA GOMES     AMAPA  BRASIL  \n",
       "7           282                 CAIRU     BAHIA  BRASIL  \n",
       "8           236                 APORA     BAHIA  BRASIL  "
      ]
     },
     "execution_count": 383,
     "metadata": {},
     "output_type": "execute_result"
    }
   ],
   "source": [
    "#visualizando as 5 primeiras linhas do dataset apos a junção\n",
    "df_autorizacao.head()"
   ]
  },
  {
   "cell_type": "code",
   "execution_count": 384,
   "id": "00bd05ec",
   "metadata": {},
   "outputs": [
    {
     "name": "stdout",
     "output_type": "stream",
     "text": [
      "<class 'pandas.core.frame.DataFrame'>\n",
      "Int64Index: 9462 entries, 0 to 11950\n",
      "Data columns (total 17 columns):\n",
      " #   Column               Non-Null Count  Dtype \n",
      "---  ------               --------------  ----- \n",
      " 0   cd_servico           9462 non-null   int32 \n",
      " 1   situacao             9462 non-null   object\n",
      " 2   tipo                 9462 non-null   object\n",
      " 3   origem               9462 non-null   object\n",
      " 4   cd_guia              9462 non-null   int64 \n",
      " 5   origem_beneficiario  9462 non-null   object\n",
      " 6   cd_executante        9462 non-null   int64 \n",
      " 7   cd_requisitante      9462 non-null   int64 \n",
      " 8   esp_executante       9462 non-null   int64 \n",
      " 9   esp_requisitante     9462 non-null   int64 \n",
      " 10  plano_beneficiario   9462 non-null   int64 \n",
      " 11  tipo_atendimento     9462 non-null   object\n",
      " 12  tipo_consulta        9462 non-null   object\n",
      " 13  cd_operadora         9462 non-null   int64 \n",
      " 14  municipio            9462 non-null   object\n",
      " 15  estado               9462 non-null   object\n",
      " 16  pais                 9462 non-null   object\n",
      "dtypes: int32(1), int64(7), object(9)\n",
      "memory usage: 1.5+ MB\n"
     ]
    }
   ],
   "source": [
    "#visualizando os tipos dos dados\n",
    "df_autorizacao.info()"
   ]
  },
  {
   "cell_type": "code",
   "execution_count": 385,
   "id": "bc49f703",
   "metadata": {},
   "outputs": [
    {
     "data": {
      "text/plain": [
       "cd_servico             0\n",
       "situacao               0\n",
       "tipo                   0\n",
       "origem                 0\n",
       "cd_guia                0\n",
       "origem_beneficiario    0\n",
       "cd_executante          0\n",
       "cd_requisitante        0\n",
       "esp_executante         0\n",
       "esp_requisitante       0\n",
       "plano_beneficiario     0\n",
       "tipo_atendimento       0\n",
       "tipo_consulta          0\n",
       "cd_operadora           0\n",
       "municipio              0\n",
       "estado                 0\n",
       "pais                   0\n",
       "dtype: int64"
      ]
     },
     "execution_count": 385,
     "metadata": {},
     "output_type": "execute_result"
    }
   ],
   "source": [
    "#verificando se existe algum valor nulo\n",
    "df_autorizacao.isnull().sum()"
   ]
  },
  {
   "cell_type": "code",
   "execution_count": 386,
   "id": "bc55f6c8",
   "metadata": {},
   "outputs": [
    {
     "data": {
      "text/html": [
       "<div>\n",
       "<style scoped>\n",
       "    .dataframe tbody tr th:only-of-type {\n",
       "        vertical-align: middle;\n",
       "    }\n",
       "\n",
       "    .dataframe tbody tr th {\n",
       "        vertical-align: top;\n",
       "    }\n",
       "\n",
       "    .dataframe thead th {\n",
       "        text-align: right;\n",
       "    }\n",
       "</style>\n",
       "<table border=\"1\" class=\"dataframe\">\n",
       "  <thead>\n",
       "    <tr style=\"text-align: right;\">\n",
       "      <th></th>\n",
       "      <th>count</th>\n",
       "      <th>mean</th>\n",
       "      <th>std</th>\n",
       "      <th>min</th>\n",
       "      <th>25%</th>\n",
       "      <th>50%</th>\n",
       "      <th>75%</th>\n",
       "      <th>max</th>\n",
       "    </tr>\n",
       "  </thead>\n",
       "  <tbody>\n",
       "    <tr>\n",
       "      <th>cd_servico</th>\n",
       "      <td>9462.0</td>\n",
       "      <td>4.284577e+07</td>\n",
       "      <td>1.988035e+07</td>\n",
       "      <td>1244.0</td>\n",
       "      <td>40101010.00</td>\n",
       "      <td>40316548.0</td>\n",
       "      <td>50000470.0</td>\n",
       "      <td>99999943.0</td>\n",
       "    </tr>\n",
       "    <tr>\n",
       "      <th>cd_guia</th>\n",
       "      <td>9462.0</td>\n",
       "      <td>6.211932e+06</td>\n",
       "      <td>6.703088e+06</td>\n",
       "      <td>5313592.0</td>\n",
       "      <td>5429088.00</td>\n",
       "      <td>5573452.0</td>\n",
       "      <td>5740870.0</td>\n",
       "      <td>77473972.0</td>\n",
       "    </tr>\n",
       "    <tr>\n",
       "      <th>cd_executante</th>\n",
       "      <td>9462.0</td>\n",
       "      <td>3.375014e+02</td>\n",
       "      <td>2.579790e+02</td>\n",
       "      <td>6.0</td>\n",
       "      <td>198.00</td>\n",
       "      <td>229.0</td>\n",
       "      <td>286.0</td>\n",
       "      <td>988.0</td>\n",
       "    </tr>\n",
       "    <tr>\n",
       "      <th>cd_requisitante</th>\n",
       "      <td>9462.0</td>\n",
       "      <td>3.381822e+02</td>\n",
       "      <td>2.584196e+02</td>\n",
       "      <td>6.0</td>\n",
       "      <td>199.25</td>\n",
       "      <td>229.0</td>\n",
       "      <td>286.0</td>\n",
       "      <td>988.0</td>\n",
       "    </tr>\n",
       "    <tr>\n",
       "      <th>esp_executante</th>\n",
       "      <td>9462.0</td>\n",
       "      <td>2.780397e+02</td>\n",
       "      <td>2.733118e+00</td>\n",
       "      <td>278.0</td>\n",
       "      <td>278.00</td>\n",
       "      <td>278.0</td>\n",
       "      <td>278.0</td>\n",
       "      <td>466.0</td>\n",
       "    </tr>\n",
       "    <tr>\n",
       "      <th>esp_requisitante</th>\n",
       "      <td>9462.0</td>\n",
       "      <td>2.780397e+02</td>\n",
       "      <td>2.733118e+00</td>\n",
       "      <td>278.0</td>\n",
       "      <td>278.00</td>\n",
       "      <td>278.0</td>\n",
       "      <td>278.0</td>\n",
       "      <td>466.0</td>\n",
       "    </tr>\n",
       "    <tr>\n",
       "      <th>plano_beneficiario</th>\n",
       "      <td>9462.0</td>\n",
       "      <td>5.725736e+02</td>\n",
       "      <td>6.983521e+01</td>\n",
       "      <td>2.0</td>\n",
       "      <td>538.00</td>\n",
       "      <td>569.0</td>\n",
       "      <td>622.0</td>\n",
       "      <td>627.0</td>\n",
       "    </tr>\n",
       "    <tr>\n",
       "      <th>cd_operadora</th>\n",
       "      <td>9462.0</td>\n",
       "      <td>3.381822e+02</td>\n",
       "      <td>2.584196e+02</td>\n",
       "      <td>6.0</td>\n",
       "      <td>199.25</td>\n",
       "      <td>229.0</td>\n",
       "      <td>286.0</td>\n",
       "      <td>988.0</td>\n",
       "    </tr>\n",
       "  </tbody>\n",
       "</table>\n",
       "</div>"
      ],
      "text/plain": [
       "                     count          mean           std        min  \\\n",
       "cd_servico          9462.0  4.284577e+07  1.988035e+07     1244.0   \n",
       "cd_guia             9462.0  6.211932e+06  6.703088e+06  5313592.0   \n",
       "cd_executante       9462.0  3.375014e+02  2.579790e+02        6.0   \n",
       "cd_requisitante     9462.0  3.381822e+02  2.584196e+02        6.0   \n",
       "esp_executante      9462.0  2.780397e+02  2.733118e+00      278.0   \n",
       "esp_requisitante    9462.0  2.780397e+02  2.733118e+00      278.0   \n",
       "plano_beneficiario  9462.0  5.725736e+02  6.983521e+01        2.0   \n",
       "cd_operadora        9462.0  3.381822e+02  2.584196e+02        6.0   \n",
       "\n",
       "                            25%         50%         75%         max  \n",
       "cd_servico          40101010.00  40316548.0  50000470.0  99999943.0  \n",
       "cd_guia              5429088.00   5573452.0   5740870.0  77473972.0  \n",
       "cd_executante            198.00       229.0       286.0       988.0  \n",
       "cd_requisitante          199.25       229.0       286.0       988.0  \n",
       "esp_executante           278.00       278.0       278.0       466.0  \n",
       "esp_requisitante         278.00       278.0       278.0       466.0  \n",
       "plano_beneficiario       538.00       569.0       622.0       627.0  \n",
       "cd_operadora             199.25       229.0       286.0       988.0  "
      ]
     },
     "execution_count": 386,
     "metadata": {},
     "output_type": "execute_result"
    }
   ],
   "source": [
    "#verificando algumas estatisticas dos atributos numericos\n",
    "df_autorizacao.describe().transpose()"
   ]
  },
  {
   "cell_type": "markdown",
   "id": "20946366",
   "metadata": {},
   "source": [
    "### Qual a quantidade de autorizações solicitadas por estado?"
   ]
  },
  {
   "cell_type": "code",
   "execution_count": 387,
   "id": "e6ceebf0",
   "metadata": {},
   "outputs": [
    {
     "data": {
      "image/png": "[encoded data removed]",
      "text/plain": [
       "<Figure size 1440x432 with 1 Axes>"
      ]
     },
     "metadata": {
      "needs_background": "light"
     },
     "output_type": "display_data"
    }
   ],
   "source": [
    "plt.rcParams['figure.figsize'] = [20, 6]\n",
    "\n",
    "x = df_autorizacao['estado'].value_counts().head(10).index\n",
    "\n",
    "y = df_autorizacao['estado'].value_counts().head(10).values\n",
    "\n",
    "plt.bar(x,y)\n",
    "\n",
    "plt.ylabel(\"QUANTIDADE\")\n",
    "\n",
    "plt.xlabel(\"ESTADO\")\n",
    "\n",
    "plt.title(\"NUMERO DE AUTORIZAÇÕES SOLICITADAS POR ESTADO\")\n",
    "\n",
    "plt.show();\n",
    "\n"
   ]
  },
  {
   "cell_type": "markdown",
   "id": "44575822",
   "metadata": {},
   "source": [
    "### Quais os 10 municipios que mais tiveram solicitações de autorização?"
   ]
  },
  {
   "cell_type": "code",
   "execution_count": 388,
   "id": "66c8b2c6",
   "metadata": {},
   "outputs": [
    {
     "data": {
      "image/png": "[encoded data removed]",
      "text/plain": [
       "<Figure size 1440x432 with 1 Axes>"
      ]
     },
     "metadata": {
      "needs_background": "light"
     },
     "output_type": "display_data"
    }
   ],
   "source": [
    "plt.rcParams['figure.figsize'] = [20, 6]\n",
    "\n",
    "x = df_autorizacao['municipio'].value_counts().head(10).index\n",
    "\n",
    "y = df_autorizacao['municipio'].value_counts().head(10).values\n",
    "\n",
    "plt.bar(x,y)\n",
    "\n",
    "plt.ylabel(\"QUANTIDADE\")\n",
    "\n",
    "plt.xlabel(\"MUNICIPIO\")\n",
    "\n",
    "plt.title(\"TOP 10 - NUMERO DE AUTORIZAÇÕES SOLICITADAS POR MUNICIPIO\")\n",
    "\n",
    "plt.show();"
   ]
  },
  {
   "cell_type": "markdown",
   "id": "f0409f00",
   "metadata": {},
   "source": [
    "### Quais as 10 operadoras de plano de saúde que mais tiveram solicitações de autorização?"
   ]
  },
  {
   "cell_type": "code",
   "execution_count": 389,
   "id": "a4280576",
   "metadata": {},
   "outputs": [
    {
     "data": {
      "image/png": "[encoded data removed]",
      "text/plain": [
       "<Figure size 1440x432 with 1 Axes>"
      ]
     },
     "metadata": {
      "needs_background": "light"
     },
     "output_type": "display_data"
    }
   ],
   "source": [
    "df = df_autorizacao['cd_requisitante'].astype(str)\n",
    "\n",
    "plt.rcParams['figure.figsize'] = [20, 6]\n",
    "\n",
    "x = df.value_counts().head(10).index\n",
    "\n",
    "y = df.value_counts().head(10).values\n",
    "\n",
    "plt.bar(x,y)\n",
    "\n",
    "plt.ylabel(\"QUANTIDADE\")\n",
    "\n",
    "plt.xlabel(\"OPERADORA\")\n",
    "\n",
    "plt.title(\"TOP 10 - NUMERO DE AUTORIZAÇÕES SOLICITADAS POR OPERADORA\")\n",
    "\n",
    "plt.show();"
   ]
  },
  {
   "cell_type": "markdown",
   "id": "30af5fd8",
   "metadata": {},
   "source": [
    "### Quais os 10 planos que mais solicitaram autorização?"
   ]
  },
  {
   "cell_type": "code",
   "execution_count": 390,
   "id": "34682e19",
   "metadata": {},
   "outputs": [
    {
     "data": {
      "image/png": "[encoded data removed]",
      "text/plain": [
       "<Figure size 1440x432 with 1 Axes>"
      ]
     },
     "metadata": {
      "needs_background": "light"
     },
     "output_type": "display_data"
    }
   ],
   "source": [
    "df = df_autorizacao['plano_beneficiario'].astype(str)\n",
    "\n",
    "plt.rcParams['figure.figsize'] = [20, 6]\n",
    "\n",
    "x = df.value_counts().head(10).index\n",
    "\n",
    "y = df.value_counts().head(10).values\n",
    "\n",
    "plt.bar(x,y)\n",
    "\n",
    "plt.ylabel(\"QUANTIDADE\")\n",
    "\n",
    "plt.xlabel(\"PLANO\")\n",
    "\n",
    "plt.title(\"TOP 10 - NUMERO DE GUIAS SOLICITADAS POR PLANO DE SAÚDE\")\n",
    "\n",
    "plt.show();"
   ]
  },
  {
   "cell_type": "markdown",
   "id": "701da6d6",
   "metadata": {},
   "source": [
    "### Quais foram os 10 serviços mais requisitados nas autorizações?"
   ]
  },
  {
   "cell_type": "code",
   "execution_count": 391,
   "id": "edcf901b",
   "metadata": {},
   "outputs": [
    {
     "data": {
      "image/png": "[encoded data removed]",
      "text/plain": [
       "<Figure size 1440x432 with 1 Axes>"
      ]
     },
     "metadata": {
      "needs_background": "light"
     },
     "output_type": "display_data"
    }
   ],
   "source": [
    "df = df_autorizacao['cd_servico'].astype(str)\n",
    "\n",
    "plt.rcParams['figure.figsize'] = [20, 6]\n",
    "\n",
    "x = df.value_counts().head(10).index\n",
    "\n",
    "y = df.value_counts().head(10).values\n",
    "\n",
    "plt.bar(x,y)\n",
    "\n",
    "plt.ylabel(\"QUANTIDADE\")\n",
    "\n",
    "plt.xlabel(\"NUMERO DO SERVIÇO\")\n",
    "\n",
    "plt.title(\"TOP 10 - SERVIÇOS MAIS REQUISITADOS\")\n",
    "\n",
    "plt.show();"
   ]
  },
  {
   "cell_type": "markdown",
   "id": "b2e9eee4",
   "metadata": {},
   "source": [
    "### Quantidade de autorizações por tipo de atendimento"
   ]
  },
  {
   "cell_type": "code",
   "execution_count": 392,
   "id": "37905630",
   "metadata": {},
   "outputs": [
    {
     "data": {
      "image/png": "[encoded data removed]",
      "text/plain": [
       "<Figure size 1440x432 with 1 Axes>"
      ]
     },
     "metadata": {
      "needs_background": "light"
     },
     "output_type": "display_data"
    }
   ],
   "source": [
    "sns.countplot(x = df_autorizacao['tipo_atendimento'])\n",
    "\n",
    "plt.ylabel(\"QUANTIDADE\")\n",
    "\n",
    "plt.xlabel(\"TIPO DE ATENDIMENTO\")\n",
    "\n",
    "plt.title(\"QUANTIDADE DE AUTORIZAÇÕES POR TIPO DE ATENDIMENTO\")\n",
    "\n",
    "plt.show();"
   ]
  },
  {
   "cell_type": "markdown",
   "id": "2ba0317b",
   "metadata": {},
   "source": [
    "### Quantidade de autorizações por situação\n"
   ]
  },
  {
   "cell_type": "code",
   "execution_count": 393,
   "id": "7470f5aa",
   "metadata": {},
   "outputs": [
    {
     "data": {
      "image/png": "[encoded data removed]",
      "text/plain": [
       "<Figure size 1440x432 with 1 Axes>"
      ]
     },
     "metadata": {
      "needs_background": "light"
     },
     "output_type": "display_data"
    }
   ],
   "source": [
    "sns.countplot(x = df_autorizacao['situacao'])\n",
    "\n",
    "plt.ylabel(\"QUANTIDADE\")\n",
    "\n",
    "plt.xlabel(\"SITUAÇÃO DA AUTORIZAÇÃO\")\n",
    "\n",
    "plt.title(\"QUANTIDADE DE AUTORIZAÇÕES POR SITUAÇÃO\")\n",
    "\n",
    "plt.show();"
   ]
  },
  {
   "cell_type": "markdown",
   "id": "f6f85c62",
   "metadata": {},
   "source": [
    "### Matriz de correlação dos atributos"
   ]
  },
  {
   "cell_type": "code",
   "execution_count": 394,
   "id": "0517b6ec",
   "metadata": {},
   "outputs": [
    {
     "data": {
      "text/html": [
       "<style  type=\"text/css\" >\n",
       "#T_b1a7e_row0_col0,#T_b1a7e_row1_col1,#T_b1a7e_row2_col2,#T_b1a7e_row2_col3,#T_b1a7e_row2_col7,#T_b1a7e_row3_col2,#T_b1a7e_row3_col3,#T_b1a7e_row3_col7,#T_b1a7e_row4_col4,#T_b1a7e_row4_col5,#T_b1a7e_row5_col4,#T_b1a7e_row5_col5,#T_b1a7e_row6_col6,#T_b1a7e_row7_col2,#T_b1a7e_row7_col3,#T_b1a7e_row7_col7{\n",
       "            background-color:  #023858;\n",
       "            color:  #f1f1f1;\n",
       "            font-size:  10pt;\n",
       "        }#T_b1a7e_row0_col1{\n",
       "            background-color:  #e7e3f0;\n",
       "            color:  #000000;\n",
       "            font-size:  10pt;\n",
       "        }#T_b1a7e_row0_col2,#T_b1a7e_row0_col3,#T_b1a7e_row0_col4,#T_b1a7e_row0_col5,#T_b1a7e_row0_col7{\n",
       "            background-color:  #f5eff6;\n",
       "            color:  #000000;\n",
       "            font-size:  10pt;\n",
       "        }#T_b1a7e_row0_col6{\n",
       "            background-color:  #f6eff7;\n",
       "            color:  #000000;\n",
       "            font-size:  10pt;\n",
       "        }#T_b1a7e_row1_col0{\n",
       "            background-color:  #f1ebf4;\n",
       "            color:  #000000;\n",
       "            font-size:  10pt;\n",
       "        }#T_b1a7e_row1_col2,#T_b1a7e_row1_col3,#T_b1a7e_row1_col7,#T_b1a7e_row2_col0,#T_b1a7e_row2_col1,#T_b1a7e_row3_col0,#T_b1a7e_row3_col1,#T_b1a7e_row4_col6,#T_b1a7e_row5_col6,#T_b1a7e_row6_col4,#T_b1a7e_row6_col5,#T_b1a7e_row7_col0,#T_b1a7e_row7_col1{\n",
       "            background-color:  #fff7fb;\n",
       "            color:  #000000;\n",
       "            font-size:  10pt;\n",
       "        }#T_b1a7e_row1_col4,#T_b1a7e_row1_col5{\n",
       "            background-color:  #dcdaeb;\n",
       "            color:  #000000;\n",
       "            font-size:  10pt;\n",
       "        }#T_b1a7e_row1_col6,#T_b1a7e_row4_col0,#T_b1a7e_row5_col0{\n",
       "            background-color:  #f8f1f8;\n",
       "            color:  #000000;\n",
       "            font-size:  10pt;\n",
       "        }#T_b1a7e_row2_col4,#T_b1a7e_row2_col5,#T_b1a7e_row3_col4,#T_b1a7e_row3_col5,#T_b1a7e_row7_col4,#T_b1a7e_row7_col5{\n",
       "            background-color:  #faf3f9;\n",
       "            color:  #000000;\n",
       "            font-size:  10pt;\n",
       "        }#T_b1a7e_row2_col6{\n",
       "            background-color:  #d9d8ea;\n",
       "            color:  #000000;\n",
       "            font-size:  10pt;\n",
       "        }#T_b1a7e_row3_col6,#T_b1a7e_row7_col6{\n",
       "            background-color:  #dad9ea;\n",
       "            color:  #000000;\n",
       "            font-size:  10pt;\n",
       "        }#T_b1a7e_row4_col1,#T_b1a7e_row5_col1{\n",
       "            background-color:  #d4d4e8;\n",
       "            color:  #000000;\n",
       "            font-size:  10pt;\n",
       "        }#T_b1a7e_row4_col2,#T_b1a7e_row4_col3,#T_b1a7e_row4_col7,#T_b1a7e_row5_col2,#T_b1a7e_row5_col3,#T_b1a7e_row5_col7{\n",
       "            background-color:  #f4edf6;\n",
       "            color:  #000000;\n",
       "            font-size:  10pt;\n",
       "        }#T_b1a7e_row6_col0{\n",
       "            background-color:  #f9f2f8;\n",
       "            color:  #000000;\n",
       "            font-size:  10pt;\n",
       "        }#T_b1a7e_row6_col1{\n",
       "            background-color:  #f2ecf5;\n",
       "            color:  #000000;\n",
       "            font-size:  10pt;\n",
       "        }#T_b1a7e_row6_col2{\n",
       "            background-color:  #d2d2e7;\n",
       "            color:  #000000;\n",
       "            font-size:  10pt;\n",
       "        }#T_b1a7e_row6_col3,#T_b1a7e_row6_col7{\n",
       "            background-color:  #d2d3e7;\n",
       "            color:  #000000;\n",
       "            font-size:  10pt;\n",
       "        }</style><table id=\"T_b1a7e_\" ><thead>    <tr>        <th class=\"blank level0\" ></th>        <th class=\"col_heading level0 col0\" >cd_servico</th>        <th class=\"col_heading level0 col1\" >cd_guia</th>        <th class=\"col_heading level0 col2\" >cd_executante</th>        <th class=\"col_heading level0 col3\" >cd_requisitante</th>        <th class=\"col_heading level0 col4\" >esp_executante</th>        <th class=\"col_heading level0 col5\" >esp_requisitante</th>        <th class=\"col_heading level0 col6\" >plano_beneficiario</th>        <th class=\"col_heading level0 col7\" >cd_operadora</th>    </tr></thead><tbody>\n",
       "                <tr>\n",
       "                        <th id=\"T_b1a7e_level0_row0\" class=\"row_heading level0 row0\" >cd_servico</th>\n",
       "                        <td id=\"T_b1a7e_row0_col0\" class=\"data row0 col0\" >1.0000</td>\n",
       "                        <td id=\"T_b1a7e_row0_col1\" class=\"data row0 col1\" >0.0653</td>\n",
       "                        <td id=\"T_b1a7e_row0_col2\" class=\"data row0 col2\" >-0.0312</td>\n",
       "                        <td id=\"T_b1a7e_row0_col3\" class=\"data row0 col3\" >-0.0314</td>\n",
       "                        <td id=\"T_b1a7e_row0_col4\" class=\"data row0 col4\" >0.0167</td>\n",
       "                        <td id=\"T_b1a7e_row0_col5\" class=\"data row0 col5\" >0.0167</td>\n",
       "                        <td id=\"T_b1a7e_row0_col6\" class=\"data row0 col6\" >0.0108</td>\n",
       "                        <td id=\"T_b1a7e_row0_col7\" class=\"data row0 col7\" >-0.0314</td>\n",
       "            </tr>\n",
       "            <tr>\n",
       "                        <th id=\"T_b1a7e_level0_row1\" class=\"row_heading level0 row1\" >cd_guia</th>\n",
       "                        <td id=\"T_b1a7e_row1_col0\" class=\"data row1 col0\" >0.0653</td>\n",
       "                        <td id=\"T_b1a7e_row1_col1\" class=\"data row1 col1\" >1.0000</td>\n",
       "                        <td id=\"T_b1a7e_row1_col2\" class=\"data row1 col2\" >-0.1010</td>\n",
       "                        <td id=\"T_b1a7e_row1_col3\" class=\"data row1 col3\" >-0.1011</td>\n",
       "                        <td id=\"T_b1a7e_row1_col4\" class=\"data row1 col4\" >0.1545</td>\n",
       "                        <td id=\"T_b1a7e_row1_col5\" class=\"data row1 col5\" >0.1545</td>\n",
       "                        <td id=\"T_b1a7e_row1_col6\" class=\"data row1 col6\" >-0.0030</td>\n",
       "                        <td id=\"T_b1a7e_row1_col7\" class=\"data row1 col7\" >-0.1011</td>\n",
       "            </tr>\n",
       "            <tr>\n",
       "                        <th id=\"T_b1a7e_level0_row2\" class=\"row_heading level0 row2\" >cd_executante</th>\n",
       "                        <td id=\"T_b1a7e_row2_col0\" class=\"data row2 col0\" >-0.0312</td>\n",
       "                        <td id=\"T_b1a7e_row2_col1\" class=\"data row2 col1\" >-0.1010</td>\n",
       "                        <td id=\"T_b1a7e_row2_col2\" class=\"data row2 col2\" >1.0000</td>\n",
       "                        <td id=\"T_b1a7e_row2_col3\" class=\"data row2 col3\" >0.9974</td>\n",
       "                        <td id=\"T_b1a7e_row2_col4\" class=\"data row2 col4\" >-0.0187</td>\n",
       "                        <td id=\"T_b1a7e_row2_col5\" class=\"data row2 col5\" >-0.0187</td>\n",
       "                        <td id=\"T_b1a7e_row2_col6\" class=\"data row2 col6\" >0.1662</td>\n",
       "                        <td id=\"T_b1a7e_row2_col7\" class=\"data row2 col7\" >0.9974</td>\n",
       "            </tr>\n",
       "            <tr>\n",
       "                        <th id=\"T_b1a7e_level0_row3\" class=\"row_heading level0 row3\" >cd_requisitante</th>\n",
       "                        <td id=\"T_b1a7e_row3_col0\" class=\"data row3 col0\" >-0.0314</td>\n",
       "                        <td id=\"T_b1a7e_row3_col1\" class=\"data row3 col1\" >-0.1011</td>\n",
       "                        <td id=\"T_b1a7e_row3_col2\" class=\"data row3 col2\" >0.9974</td>\n",
       "                        <td id=\"T_b1a7e_row3_col3\" class=\"data row3 col3\" >1.0000</td>\n",
       "                        <td id=\"T_b1a7e_row3_col4\" class=\"data row3 col4\" >-0.0187</td>\n",
       "                        <td id=\"T_b1a7e_row3_col5\" class=\"data row3 col5\" >-0.0187</td>\n",
       "                        <td id=\"T_b1a7e_row3_col6\" class=\"data row3 col6\" >0.1644</td>\n",
       "                        <td id=\"T_b1a7e_row3_col7\" class=\"data row3 col7\" >1.0000</td>\n",
       "            </tr>\n",
       "            <tr>\n",
       "                        <th id=\"T_b1a7e_level0_row4\" class=\"row_heading level0 row4\" >esp_executante</th>\n",
       "                        <td id=\"T_b1a7e_row4_col0\" class=\"data row4 col0\" >0.0167</td>\n",
       "                        <td id=\"T_b1a7e_row4_col1\" class=\"data row4 col1\" >0.1545</td>\n",
       "                        <td id=\"T_b1a7e_row4_col2\" class=\"data row4 col2\" >-0.0187</td>\n",
       "                        <td id=\"T_b1a7e_row4_col3\" class=\"data row4 col3\" >-0.0187</td>\n",
       "                        <td id=\"T_b1a7e_row4_col4\" class=\"data row4 col4\" >1.0000</td>\n",
       "                        <td id=\"T_b1a7e_row4_col5\" class=\"data row4 col5\" >1.0000</td>\n",
       "                        <td id=\"T_b1a7e_row4_col6\" class=\"data row4 col6\" >-0.0522</td>\n",
       "                        <td id=\"T_b1a7e_row4_col7\" class=\"data row4 col7\" >-0.0187</td>\n",
       "            </tr>\n",
       "            <tr>\n",
       "                        <th id=\"T_b1a7e_level0_row5\" class=\"row_heading level0 row5\" >esp_requisitante</th>\n",
       "                        <td id=\"T_b1a7e_row5_col0\" class=\"data row5 col0\" >0.0167</td>\n",
       "                        <td id=\"T_b1a7e_row5_col1\" class=\"data row5 col1\" >0.1545</td>\n",
       "                        <td id=\"T_b1a7e_row5_col2\" class=\"data row5 col2\" >-0.0187</td>\n",
       "                        <td id=\"T_b1a7e_row5_col3\" class=\"data row5 col3\" >-0.0187</td>\n",
       "                        <td id=\"T_b1a7e_row5_col4\" class=\"data row5 col4\" >1.0000</td>\n",
       "                        <td id=\"T_b1a7e_row5_col5\" class=\"data row5 col5\" >1.0000</td>\n",
       "                        <td id=\"T_b1a7e_row5_col6\" class=\"data row5 col6\" >-0.0522</td>\n",
       "                        <td id=\"T_b1a7e_row5_col7\" class=\"data row5 col7\" >-0.0187</td>\n",
       "            </tr>\n",
       "            <tr>\n",
       "                        <th id=\"T_b1a7e_level0_row6\" class=\"row_heading level0 row6\" >plano_beneficiario</th>\n",
       "                        <td id=\"T_b1a7e_row6_col0\" class=\"data row6 col0\" >0.0108</td>\n",
       "                        <td id=\"T_b1a7e_row6_col1\" class=\"data row6 col1\" >-0.0030</td>\n",
       "                        <td id=\"T_b1a7e_row6_col2\" class=\"data row6 col2\" >0.1662</td>\n",
       "                        <td id=\"T_b1a7e_row6_col3\" class=\"data row6 col3\" >0.1644</td>\n",
       "                        <td id=\"T_b1a7e_row6_col4\" class=\"data row6 col4\" >-0.0522</td>\n",
       "                        <td id=\"T_b1a7e_row6_col5\" class=\"data row6 col5\" >-0.0522</td>\n",
       "                        <td id=\"T_b1a7e_row6_col6\" class=\"data row6 col6\" >1.0000</td>\n",
       "                        <td id=\"T_b1a7e_row6_col7\" class=\"data row6 col7\" >0.1644</td>\n",
       "            </tr>\n",
       "            <tr>\n",
       "                        <th id=\"T_b1a7e_level0_row7\" class=\"row_heading level0 row7\" >cd_operadora</th>\n",
       "                        <td id=\"T_b1a7e_row7_col0\" class=\"data row7 col0\" >-0.0314</td>\n",
       "                        <td id=\"T_b1a7e_row7_col1\" class=\"data row7 col1\" >-0.1011</td>\n",
       "                        <td id=\"T_b1a7e_row7_col2\" class=\"data row7 col2\" >0.9974</td>\n",
       "                        <td id=\"T_b1a7e_row7_col3\" class=\"data row7 col3\" >1.0000</td>\n",
       "                        <td id=\"T_b1a7e_row7_col4\" class=\"data row7 col4\" >-0.0187</td>\n",
       "                        <td id=\"T_b1a7e_row7_col5\" class=\"data row7 col5\" >-0.0187</td>\n",
       "                        <td id=\"T_b1a7e_row7_col6\" class=\"data row7 col6\" >0.1644</td>\n",
       "                        <td id=\"T_b1a7e_row7_col7\" class=\"data row7 col7\" >1.0000</td>\n",
       "            </tr>\n",
       "    </tbody></table>"
      ],
      "text/plain": [
       "<pandas.io.formats.style.Styler at 0x1d1cd25d400>"
      ]
     },
     "execution_count": 394,
     "metadata": {},
     "output_type": "execute_result"
    }
   ],
   "source": [
    "#verificando a correlação dos atributos\n",
    "corr = df_autorizacao.corr(method='pearson')\n",
    "corr.style.background_gradient().set_precision(4).set_properties(**{'font-size': '10pt'})"
   ]
  },
  {
   "cell_type": "markdown",
   "id": "3b9eb27c",
   "metadata": {},
   "source": [
    "# Tratamento do dataframe para treinamento de modelos"
   ]
  },
  {
   "cell_type": "markdown",
   "id": "504eebdf",
   "metadata": {},
   "source": [
    "### Reordenando as colunas"
   ]
  },
  {
   "cell_type": "code",
   "execution_count": 395,
   "id": "a52b8b60",
   "metadata": {
    "scrolled": true
   },
   "outputs": [
    {
     "data": {
      "text/html": [
       "<div>\n",
       "<style scoped>\n",
       "    .dataframe tbody tr th:only-of-type {\n",
       "        vertical-align: middle;\n",
       "    }\n",
       "\n",
       "    .dataframe tbody tr th {\n",
       "        vertical-align: top;\n",
       "    }\n",
       "\n",
       "    .dataframe thead th {\n",
       "        text-align: right;\n",
       "    }\n",
       "</style>\n",
       "<table border=\"1\" class=\"dataframe\">\n",
       "  <thead>\n",
       "    <tr style=\"text-align: right;\">\n",
       "      <th></th>\n",
       "      <th>cd_guia</th>\n",
       "      <th>cd_servico</th>\n",
       "      <th>tipo</th>\n",
       "      <th>origem</th>\n",
       "      <th>origem_beneficiario</th>\n",
       "      <th>cd_executante</th>\n",
       "      <th>cd_requisitante</th>\n",
       "      <th>esp_executante</th>\n",
       "      <th>esp_requisitante</th>\n",
       "      <th>plano_beneficiario</th>\n",
       "      <th>tipo_atendimento</th>\n",
       "      <th>tipo_consulta</th>\n",
       "      <th>cd_operadora</th>\n",
       "      <th>municipio</th>\n",
       "      <th>estado</th>\n",
       "      <th>pais</th>\n",
       "      <th>situacao</th>\n",
       "    </tr>\n",
       "  </thead>\n",
       "  <tbody>\n",
       "    <tr>\n",
       "      <th>0</th>\n",
       "      <td>5672237</td>\n",
       "      <td>1244</td>\n",
       "      <td>TRANSITO INTERNACAO</td>\n",
       "      <td>TRANSACAO</td>\n",
       "      <td>LOCAL</td>\n",
       "      <td>178</td>\n",
       "      <td>178</td>\n",
       "      <td>278</td>\n",
       "      <td>278</td>\n",
       "      <td>563</td>\n",
       "      <td>ELETIVA</td>\n",
       "      <td>NAO CONSULTA</td>\n",
       "      <td>178</td>\n",
       "      <td>NOVA OLINDA DO NORTE</td>\n",
       "      <td>AMAZONAS</td>\n",
       "      <td>BRASIL</td>\n",
       "      <td>AUTORIZADA</td>\n",
       "    </tr>\n",
       "    <tr>\n",
       "      <th>2</th>\n",
       "      <td>5332998</td>\n",
       "      <td>2500</td>\n",
       "      <td>TRANSITO INTERNACAO</td>\n",
       "      <td>TRANSACAO</td>\n",
       "      <td>LOCAL</td>\n",
       "      <td>202</td>\n",
       "      <td>202</td>\n",
       "      <td>278</td>\n",
       "      <td>278</td>\n",
       "      <td>538</td>\n",
       "      <td>URGENCIA</td>\n",
       "      <td>NAO CONSULTA</td>\n",
       "      <td>202</td>\n",
       "      <td>FERREIRA GOMES</td>\n",
       "      <td>AMAPA</td>\n",
       "      <td>BRASIL</td>\n",
       "      <td>AUTORIZADA</td>\n",
       "    </tr>\n",
       "    <tr>\n",
       "      <th>3</th>\n",
       "      <td>5332998</td>\n",
       "      <td>9350</td>\n",
       "      <td>TRANSITO INTERNACAO</td>\n",
       "      <td>TRANSACAO</td>\n",
       "      <td>LOCAL</td>\n",
       "      <td>202</td>\n",
       "      <td>202</td>\n",
       "      <td>278</td>\n",
       "      <td>278</td>\n",
       "      <td>538</td>\n",
       "      <td>URGENCIA</td>\n",
       "      <td>NAO CONSULTA</td>\n",
       "      <td>202</td>\n",
       "      <td>FERREIRA GOMES</td>\n",
       "      <td>AMAPA</td>\n",
       "      <td>BRASIL</td>\n",
       "      <td>AUTORIZADA</td>\n",
       "    </tr>\n",
       "    <tr>\n",
       "      <th>7</th>\n",
       "      <td>5404770</td>\n",
       "      <td>22403</td>\n",
       "      <td>TRANSITO INTERNACAO</td>\n",
       "      <td>TRANSACAO</td>\n",
       "      <td>LOCAL</td>\n",
       "      <td>282</td>\n",
       "      <td>282</td>\n",
       "      <td>278</td>\n",
       "      <td>278</td>\n",
       "      <td>583</td>\n",
       "      <td>URGENCIA</td>\n",
       "      <td>NAO CONSULTA</td>\n",
       "      <td>282</td>\n",
       "      <td>CAIRU</td>\n",
       "      <td>BAHIA</td>\n",
       "      <td>BRASIL</td>\n",
       "      <td>AUTORIZADA</td>\n",
       "    </tr>\n",
       "    <tr>\n",
       "      <th>8</th>\n",
       "      <td>5654489</td>\n",
       "      <td>24554</td>\n",
       "      <td>TRANSITO SERVICO</td>\n",
       "      <td>TRANSACAO</td>\n",
       "      <td>LOCAL</td>\n",
       "      <td>236</td>\n",
       "      <td>236</td>\n",
       "      <td>278</td>\n",
       "      <td>278</td>\n",
       "      <td>537</td>\n",
       "      <td>ELETIVA</td>\n",
       "      <td>NAO CONSULTA</td>\n",
       "      <td>236</td>\n",
       "      <td>APORA</td>\n",
       "      <td>BAHIA</td>\n",
       "      <td>BRASIL</td>\n",
       "      <td>AUTORIZADA</td>\n",
       "    </tr>\n",
       "  </tbody>\n",
       "</table>\n",
       "</div>"
      ],
      "text/plain": [
       "   cd_guia  cd_servico                 tipo     origem origem_beneficiario  \\\n",
       "0  5672237        1244  TRANSITO INTERNACAO  TRANSACAO               LOCAL   \n",
       "2  5332998        2500  TRANSITO INTERNACAO  TRANSACAO               LOCAL   \n",
       "3  5332998        9350  TRANSITO INTERNACAO  TRANSACAO               LOCAL   \n",
       "7  5404770       22403  TRANSITO INTERNACAO  TRANSACAO               LOCAL   \n",
       "8  5654489       24554     TRANSITO SERVICO  TRANSACAO               LOCAL   \n",
       "\n",
       "   cd_executante  cd_requisitante  esp_executante  esp_requisitante  \\\n",
       "0            178              178             278               278   \n",
       "2            202              202             278               278   \n",
       "3            202              202             278               278   \n",
       "7            282              282             278               278   \n",
       "8            236              236             278               278   \n",
       "\n",
       "   plano_beneficiario tipo_atendimento tipo_consulta  cd_operadora  \\\n",
       "0                 563          ELETIVA  NAO CONSULTA           178   \n",
       "2                 538         URGENCIA  NAO CONSULTA           202   \n",
       "3                 538         URGENCIA  NAO CONSULTA           202   \n",
       "7                 583         URGENCIA  NAO CONSULTA           282   \n",
       "8                 537          ELETIVA  NAO CONSULTA           236   \n",
       "\n",
       "              municipio    estado    pais    situacao  \n",
       "0  NOVA OLINDA DO NORTE  AMAZONAS  BRASIL  AUTORIZADA  \n",
       "2        FERREIRA GOMES     AMAPA  BRASIL  AUTORIZADA  \n",
       "3        FERREIRA GOMES     AMAPA  BRASIL  AUTORIZADA  \n",
       "7                 CAIRU     BAHIA  BRASIL  AUTORIZADA  \n",
       "8                 APORA     BAHIA  BRASIL  AUTORIZADA  "
      ]
     },
     "execution_count": 395,
     "metadata": {},
     "output_type": "execute_result"
    }
   ],
   "source": [
    "#reordenando as colunas\n",
    "df_autorizacao = df_autorizacao[['cd_guia','cd_servico','tipo','origem','origem_beneficiario','cd_executante','cd_requisitante','esp_executante','esp_requisitante','plano_beneficiario','tipo_atendimento','tipo_consulta','cd_operadora','municipio','estado','pais','situacao']]\n",
    "df_autorizacao.head()"
   ]
  },
  {
   "cell_type": "markdown",
   "id": "87eefd4d",
   "metadata": {},
   "source": [
    "### Transformando a atributo situacao em codificação numerica"
   ]
  },
  {
   "cell_type": "code",
   "execution_count": 396,
   "id": "016752de",
   "metadata": {},
   "outputs": [],
   "source": [
    "df_autorizacao['situacao'] = df_autorizacao['situacao'].map({'AUTORIZADA':1, 'NEGADA':0})"
   ]
  },
  {
   "cell_type": "markdown",
   "id": "e986590e",
   "metadata": {},
   "source": [
    "### Dividindo entre previsores e classe"
   ]
  },
  {
   "cell_type": "code",
   "execution_count": 397,
   "id": "f487962d",
   "metadata": {},
   "outputs": [],
   "source": [
    "#armazenando na variavel X_autorizacao os atributos previsores e convertendo os valores para o formado array do numpy\n",
    "X_autorizacao = df_autorizacao.iloc[:, 0:16].values"
   ]
  },
  {
   "cell_type": "code",
   "execution_count": 398,
   "id": "abce330b",
   "metadata": {},
   "outputs": [
    {
     "data": {
      "text/plain": [
       "array([[5672237, 1244, 'TRANSITO INTERNACAO', ...,\n",
       "        'NOVA OLINDA DO NORTE', 'AMAZONAS', 'BRASIL'],\n",
       "       [5332998, 2500, 'TRANSITO INTERNACAO', ..., 'FERREIRA GOMES',\n",
       "        'AMAPA', 'BRASIL'],\n",
       "       [5332998, 9350, 'TRANSITO INTERNACAO', ..., 'FERREIRA GOMES',\n",
       "        'AMAPA', 'BRASIL'],\n",
       "       ...,\n",
       "       [5750255, 99999943, 'TRANSITO INTERNACAO', ..., 'IPIAU', 'BAHIA',\n",
       "        'BRASIL'],\n",
       "       [5790953, 99999943, 'TRANSITO INTERNACAO', ..., 'IPIAU', 'BAHIA',\n",
       "        'BRASIL'],\n",
       "       [77419622, 99999943, 'SERVIÇO', ..., 'CRUZEIRO DO SUL', 'ACRE',\n",
       "        'BRASIL']], dtype=object)"
      ]
     },
     "execution_count": 398,
     "metadata": {},
     "output_type": "execute_result"
    }
   ],
   "source": [
    "#exibindo o conteudo da variavel X_autorizacao\n",
    "X_autorizacao"
   ]
  },
  {
   "cell_type": "code",
   "execution_count": 399,
   "id": "40db6997",
   "metadata": {},
   "outputs": [],
   "source": [
    "#adicionando a variavel y_autorizacao o atributo situacao\n",
    "y_autorizacao = df_autorizacao.iloc[:, 16].values"
   ]
  },
  {
   "cell_type": "code",
   "execution_count": 400,
   "id": "2eb21ca4",
   "metadata": {},
   "outputs": [
    {
     "data": {
      "text/plain": [
       "array([1, 1, 1, ..., 0, 0, 1], dtype=int64)"
      ]
     },
     "execution_count": 400,
     "metadata": {},
     "output_type": "execute_result"
    }
   ],
   "source": [
    "#exibindo o conteudo da variavel y_autorizacao\n",
    "y_autorizacao"
   ]
  },
  {
   "cell_type": "markdown",
   "id": "4c212c58",
   "metadata": {},
   "source": [
    "## Tratamento dos dados categoricos"
   ]
  },
  {
   "cell_type": "markdown",
   "id": "6bc9a1f6",
   "metadata": {},
   "source": [
    "### Metodo Label Enconder"
   ]
  },
  {
   "cell_type": "code",
   "execution_count": 401,
   "id": "df527ff4",
   "metadata": {},
   "outputs": [],
   "source": [
    "label_encoder_tipo = LabelEncoder()\n",
    "label_encoder_origem = LabelEncoder()\n",
    "label_encoder_origem_beneficiario = LabelEncoder()\n",
    "label_encoder_tipo_atendimento = LabelEncoder()\n",
    "label_encoder_tipo_consulta = LabelEncoder()\n",
    "label_encoder_municipio = LabelEncoder()\n",
    "label_encoder_estado = LabelEncoder()\n",
    "label_encoder_pais = LabelEncoder()"
   ]
  },
  {
   "cell_type": "code",
   "execution_count": 402,
   "id": "bfba7105",
   "metadata": {},
   "outputs": [],
   "source": [
    "X_autorizacao[:,2] = label_encoder_tipo.fit_transform(X_autorizacao[:,2])\n",
    "X_autorizacao[:,3] = label_encoder_origem.fit_transform(X_autorizacao[:,3])\n",
    "X_autorizacao[:,4] = label_encoder_origem_beneficiario.fit_transform(X_autorizacao[:,4])\n",
    "X_autorizacao[:,10] = label_encoder_tipo_atendimento.fit_transform(X_autorizacao[:,10])\n",
    "X_autorizacao[:,11] = label_encoder_tipo_consulta.fit_transform(X_autorizacao[:,11])\n",
    "X_autorizacao[:,13] = label_encoder_municipio.fit_transform(X_autorizacao[:,13])\n",
    "X_autorizacao[:,14] = label_encoder_estado.fit_transform(X_autorizacao[:,14])\n",
    "X_autorizacao[:,15] = label_encoder_pais.fit_transform(X_autorizacao[:,15])\n"
   ]
  },
  {
   "cell_type": "code",
   "execution_count": 403,
   "id": "938008af",
   "metadata": {},
   "outputs": [
    {
     "data": {
      "text/plain": [
       "array([[5672237, 1244, 4, ..., 115, 3, 0],\n",
       "       [5332998, 2500, 4, ..., 84, 2, 0],\n",
       "       [5332998, 9350, 4, ..., 84, 2, 0],\n",
       "       ...,\n",
       "       [5750255, 99999943, 4, ..., 93, 4, 0],\n",
       "       [5790953, 99999943, 4, ..., 93, 4, 0],\n",
       "       [77419622, 99999943, 2, ..., 75, 0, 0]], dtype=object)"
      ]
     },
     "execution_count": 403,
     "metadata": {},
     "output_type": "execute_result"
    }
   ],
   "source": [
    "X_autorizacao"
   ]
  },
  {
   "cell_type": "markdown",
   "id": "437bcb82",
   "metadata": {},
   "source": [
    "## Dividindo os dados em treino e teste"
   ]
  },
  {
   "cell_type": "code",
   "execution_count": 404,
   "id": "f87f8edc",
   "metadata": {},
   "outputs": [],
   "source": [
    "nb_X_treino, nb_X_teste, nb_y_treino,nb_y_teste = train_test_split(X_autorizacao, y_autorizacao, test_size = 0.25, random_state=0)"
   ]
  },
  {
   "cell_type": "markdown",
   "id": "64919709",
   "metadata": {},
   "source": [
    "# Treinando modelos"
   ]
  },
  {
   "cell_type": "markdown",
   "id": "c39011b0",
   "metadata": {},
   "source": [
    "## Naive Bayes"
   ]
  },
  {
   "cell_type": "code",
   "execution_count": 405,
   "id": "50e3fd1b",
   "metadata": {},
   "outputs": [
    {
     "data": {
      "text/plain": [
       "GaussianNB()"
      ]
     },
     "execution_count": 405,
     "metadata": {},
     "output_type": "execute_result"
    }
   ],
   "source": [
    "naive_autorizacao = GaussianNB()\n",
    "naive_autorizacao.fit(nb_X_treino,nb_y_treino)"
   ]
  },
  {
   "cell_type": "code",
   "execution_count": 406,
   "id": "d015733d",
   "metadata": {},
   "outputs": [],
   "source": [
    "nb_naive_prev = naive_autorizacao.predict(nb_X_teste)"
   ]
  },
  {
   "cell_type": "code",
   "execution_count": 407,
   "id": "efec93be",
   "metadata": {},
   "outputs": [
    {
     "data": {
      "text/plain": [
       "array([1, 1, 1, ..., 1, 1, 1], dtype=int64)"
      ]
     },
     "execution_count": 407,
     "metadata": {},
     "output_type": "execute_result"
    }
   ],
   "source": [
    "nb_naive_prev"
   ]
  },
  {
   "cell_type": "code",
   "execution_count": 408,
   "id": "2dd421aa",
   "metadata": {},
   "outputs": [
    {
     "data": {
      "text/plain": [
       "array([1, 1, 1, ..., 1, 1, 1], dtype=int64)"
      ]
     },
     "execution_count": 408,
     "metadata": {},
     "output_type": "execute_result"
    }
   ],
   "source": [
    "nb_y_teste"
   ]
  },
  {
   "cell_type": "code",
   "execution_count": 409,
   "id": "8ec11340",
   "metadata": {},
   "outputs": [
    {
     "data": {
      "text/plain": [
       "0.8427726120033813"
      ]
     },
     "execution_count": 409,
     "metadata": {},
     "output_type": "execute_result"
    }
   ],
   "source": [
    "accuracy_score(nb_y_teste,nb_naive_prev)"
   ]
  },
  {
   "cell_type": "code",
   "execution_count": 410,
   "id": "c16ae563",
   "metadata": {},
   "outputs": [
    {
     "name": "stdout",
     "output_type": "stream",
     "text": [
      "              precision    recall  f1-score   support\n",
      "\n",
      "      NEGADA       0.30      0.02      0.04       363\n",
      "  AUTORIZADA       0.85      0.99      0.91      2003\n",
      "\n",
      "    accuracy                           0.84      2366\n",
      "   macro avg       0.58      0.51      0.48      2366\n",
      "weighted avg       0.76      0.84      0.78      2366\n",
      "\n"
     ]
    }
   ],
   "source": [
    "print(classification_report(nb_y_teste,nb_naive_prev, target_names=['NEGADA','AUTORIZADA']))"
   ]
  },
  {
   "cell_type": "code",
   "execution_count": 411,
   "id": "28100edc",
   "metadata": {},
   "outputs": [
    {
     "data": {
      "text/plain": [
       "0.8427726120033813"
      ]
     },
     "execution_count": 411,
     "metadata": {},
     "output_type": "execute_result"
    },
    {
     "data": {
      "image/png": "[encoded data removed]",
      "text/plain": [
       "<Figure size 720x360 with 1 Axes>"
      ]
     },
     "metadata": {
      "needs_background": "light"
     },
     "output_type": "display_data"
    }
   ],
   "source": [
    "plt.rcParams['figure.figsize'] = [10, 5]\n",
    "cm = ConfusionMatrix(naive_autorizacao)\n",
    "cm.fit(nb_X_treino,nb_y_treino)\n",
    "cm.score(nb_X_teste,nb_y_teste)"
   ]
  },
  {
   "cell_type": "markdown",
   "id": "83e840d0",
   "metadata": {},
   "source": [
    "## Decision Tree"
   ]
  },
  {
   "cell_type": "code",
   "execution_count": 412,
   "id": "479e5347",
   "metadata": {},
   "outputs": [],
   "source": [
    "arvore_autorizacao = DecisionTreeClassifier(random_state=0)"
   ]
  },
  {
   "cell_type": "code",
   "execution_count": 413,
   "id": "4fb37939",
   "metadata": {},
   "outputs": [
    {
     "data": {
      "text/plain": [
       "DecisionTreeClassifier(random_state=0)"
      ]
     },
     "execution_count": 413,
     "metadata": {},
     "output_type": "execute_result"
    }
   ],
   "source": [
    "arvore_autorizacao.fit(nb_X_treino,nb_y_treino)"
   ]
  },
  {
   "cell_type": "code",
   "execution_count": 414,
   "id": "bb61e527",
   "metadata": {},
   "outputs": [],
   "source": [
    "nb_arvore_prev = arvore_autorizacao.predict(nb_X_teste)"
   ]
  },
  {
   "cell_type": "code",
   "execution_count": 415,
   "id": "da0d720d",
   "metadata": {},
   "outputs": [
    {
     "data": {
      "text/plain": [
       "array([1, 1, 1, ..., 1, 1, 1], dtype=int64)"
      ]
     },
     "execution_count": 415,
     "metadata": {},
     "output_type": "execute_result"
    }
   ],
   "source": [
    "nb_arvore_prev"
   ]
  },
  {
   "cell_type": "code",
   "execution_count": 416,
   "id": "5679468a",
   "metadata": {
    "scrolled": true
   },
   "outputs": [
    {
     "data": {
      "text/plain": [
       "array([1, 1, 1, ..., 1, 1, 1], dtype=int64)"
      ]
     },
     "execution_count": 416,
     "metadata": {},
     "output_type": "execute_result"
    }
   ],
   "source": [
    "nb_y_teste"
   ]
  },
  {
   "cell_type": "code",
   "execution_count": 417,
   "id": "1e9dadf7",
   "metadata": {},
   "outputs": [
    {
     "data": {
      "text/plain": [
       "0.8829247675401521"
      ]
     },
     "execution_count": 417,
     "metadata": {},
     "output_type": "execute_result"
    }
   ],
   "source": [
    "accuracy_score(nb_y_teste,nb_arvore_prev)"
   ]
  },
  {
   "cell_type": "code",
   "execution_count": 418,
   "id": "d752bb89",
   "metadata": {
    "scrolled": true
   },
   "outputs": [
    {
     "name": "stdout",
     "output_type": "stream",
     "text": [
      "\n",
      "               precision    recall  f1-score   support\n",
      "\n",
      "      NEGADA       0.62      0.60      0.61       363\n",
      "  AUTORIZADA       0.93      0.93      0.93      2003\n",
      "\n",
      "    accuracy                           0.88      2366\n",
      "   macro avg       0.78      0.77      0.77      2366\n",
      "weighted avg       0.88      0.88      0.88      2366\n",
      "\n"
     ]
    }
   ],
   "source": [
    "print('\\n',classification_report(nb_y_teste,nb_arvore_prev, target_names=['NEGADA','AUTORIZADA']))"
   ]
  },
  {
   "cell_type": "code",
   "execution_count": 419,
   "id": "f04c92cd",
   "metadata": {},
   "outputs": [
    {
     "data": {
      "text/plain": [
       "0.8829247675401521"
      ]
     },
     "execution_count": 419,
     "metadata": {},
     "output_type": "execute_result"
    },
    {
     "data": {
      "image/png": "[encoded data removed]",
      "text/plain": [
       "<Figure size 720x360 with 1 Axes>"
      ]
     },
     "metadata": {
      "needs_background": "light"
     },
     "output_type": "display_data"
    }
   ],
   "source": [
    "plt.rcParams['figure.figsize'] = [10, 5]\n",
    "cm = ConfusionMatrix(arvore_autorizacao)\n",
    "cm.fit(nb_X_treino,nb_y_treino)\n",
    "cm.score(nb_X_teste,nb_y_teste)"
   ]
  },
  {
   "cell_type": "markdown",
   "id": "f5e70f02",
   "metadata": {},
   "source": [
    "## Random Forest"
   ]
  },
  {
   "cell_type": "code",
   "execution_count": 420,
   "id": "3a2895fb",
   "metadata": {},
   "outputs": [],
   "source": [
    "random_forest_autorizacao = RandomForestClassifier(random_state=0)"
   ]
  },
  {
   "cell_type": "code",
   "execution_count": 421,
   "id": "ffbd7d74",
   "metadata": {},
   "outputs": [
    {
     "data": {
      "text/plain": [
       "RandomForestClassifier(random_state=0)"
      ]
     },
     "execution_count": 421,
     "metadata": {},
     "output_type": "execute_result"
    }
   ],
   "source": [
    "random_forest_autorizacao.fit(nb_X_treino,nb_y_treino)"
   ]
  },
  {
   "cell_type": "code",
   "execution_count": 422,
   "id": "6eec8043",
   "metadata": {},
   "outputs": [],
   "source": [
    "nb_random_forest_prev = random_forest_autorizacao.predict(nb_X_teste)"
   ]
  },
  {
   "cell_type": "code",
   "execution_count": 423,
   "id": "b206a98d",
   "metadata": {},
   "outputs": [
    {
     "data": {
      "text/plain": [
       "array([1, 1, 1, ..., 1, 1, 1], dtype=int64)"
      ]
     },
     "execution_count": 423,
     "metadata": {},
     "output_type": "execute_result"
    }
   ],
   "source": [
    "nb_random_forest_prev"
   ]
  },
  {
   "cell_type": "code",
   "execution_count": 424,
   "id": "56bdab92",
   "metadata": {},
   "outputs": [
    {
     "data": {
      "text/plain": [
       "array([1, 1, 1, ..., 1, 1, 1], dtype=int64)"
      ]
     },
     "execution_count": 424,
     "metadata": {},
     "output_type": "execute_result"
    }
   ],
   "source": [
    "nb_y_teste"
   ]
  },
  {
   "cell_type": "code",
   "execution_count": 425,
   "id": "f768ba2c",
   "metadata": {},
   "outputs": [
    {
     "data": {
      "text/plain": [
       "0.908284023668639"
      ]
     },
     "execution_count": 425,
     "metadata": {},
     "output_type": "execute_result"
    }
   ],
   "source": [
    "accuracy_score(nb_y_teste,nb_random_forest_prev)"
   ]
  },
  {
   "cell_type": "code",
   "execution_count": 426,
   "id": "5518e154",
   "metadata": {},
   "outputs": [
    {
     "name": "stdout",
     "output_type": "stream",
     "text": [
      "\n",
      "               precision    recall  f1-score   support\n",
      "\n",
      "      NEGADA       0.78      0.56      0.65       363\n",
      "  AUTORIZADA       0.92      0.97      0.95      2003\n",
      "\n",
      "    accuracy                           0.91      2366\n",
      "   macro avg       0.85      0.77      0.80      2366\n",
      "weighted avg       0.90      0.91      0.90      2366\n",
      "\n"
     ]
    }
   ],
   "source": [
    "print('\\n',classification_report(nb_y_teste,nb_random_forest_prev, target_names=['NEGADA','AUTORIZADA']))"
   ]
  },
  {
   "cell_type": "code",
   "execution_count": 427,
   "id": "fc7a10d4",
   "metadata": {
    "scrolled": true
   },
   "outputs": [
    {
     "data": {
      "text/plain": [
       "0.908284023668639"
      ]
     },
     "execution_count": 427,
     "metadata": {},
     "output_type": "execute_result"
    },
    {
     "data": {
      "image/png": "[encoded data removed]",
      "text/plain": [
       "<Figure size 720x360 with 1 Axes>"
      ]
     },
     "metadata": {
      "needs_background": "light"
     },
     "output_type": "display_data"
    }
   ],
   "source": [
    "plt.rcParams['figure.figsize'] = [10, 5]\n",
    "cm = ConfusionMatrix(random_forest_autorizacao)\n",
    "cm.fit(nb_X_treino,nb_y_treino)\n",
    "cm.score(nb_X_teste,nb_y_teste)"
   ]
  },
  {
   "cell_type": "markdown",
   "id": "8ec93c0d",
   "metadata": {},
   "source": [
    "## Balanceamento da classe"
   ]
  },
  {
   "cell_type": "markdown",
   "id": "df69b7b6",
   "metadata": {},
   "source": [
    "Conforme podemos ver o numero da classe AUTORIZADA é muito superior a classe NEGADA. Dessa forma temos que tentar balancear essas classes para que o nosso modelo não seja enviesado. "
   ]
  },
  {
   "cell_type": "code",
   "execution_count": 428,
   "id": "7bd1dc2c",
   "metadata": {
    "scrolled": true
   },
   "outputs": [
    {
     "data": {
      "image/png": "[encoded data removed]",
      "text/plain": [
       "<Figure size 720x360 with 1 Axes>"
      ]
     },
     "metadata": {
      "needs_background": "light"
     },
     "output_type": "display_data"
    }
   ],
   "source": [
    "#plotando as classes antes do balanceamento\n",
    "sns.countplot(x = y_autorizacao);"
   ]
  },
  {
   "cell_type": "markdown",
   "id": "38e7e6c3",
   "metadata": {},
   "source": [
    "### SMOTE (Synthetic Minority Over-sampling Technique)\n",
    "Gera dados sintéticos da classe minoritária."
   ]
  },
  {
   "cell_type": "code",
   "execution_count": 429,
   "id": "c8f8008c",
   "metadata": {},
   "outputs": [],
   "source": [
    "smt = SMOTE()"
   ]
  },
  {
   "cell_type": "code",
   "execution_count": 430,
   "id": "8b8c7569",
   "metadata": {},
   "outputs": [],
   "source": [
    "#realizando o balanceamento\n",
    "X_autorizacao, y_autorizacao = smt.fit_resample(X_autorizacao, y_autorizacao)"
   ]
  },
  {
   "cell_type": "code",
   "execution_count": 431,
   "id": "f2f1b6ee",
   "metadata": {
    "scrolled": true
   },
   "outputs": [
    {
     "data": {
      "image/png": "[encoded data removed]",
      "text/plain": [
       "<Figure size 720x360 with 1 Axes>"
      ]
     },
     "metadata": {
      "needs_background": "light"
     },
     "output_type": "display_data"
    }
   ],
   "source": [
    "#plotando as classes apos o balanceamento\n",
    "sns.countplot(x = y_autorizacao);"
   ]
  },
  {
   "cell_type": "markdown",
   "id": "97354ef3",
   "metadata": {},
   "source": [
    "## Dividindo os dados em treino e teste"
   ]
  },
  {
   "cell_type": "code",
   "execution_count": 432,
   "id": "877c4b0f",
   "metadata": {},
   "outputs": [],
   "source": [
    "X_treino, X_teste, y_treino,y_teste = train_test_split(X_autorizacao, y_autorizacao, test_size = 0.25, random_state=0)"
   ]
  },
  {
   "cell_type": "markdown",
   "id": "6851ac3c",
   "metadata": {},
   "source": [
    "# Treinando modelos após o balanceamento da classe"
   ]
  },
  {
   "cell_type": "markdown",
   "id": "c975aef7",
   "metadata": {},
   "source": [
    "## Naive Bayes"
   ]
  },
  {
   "cell_type": "code",
   "execution_count": 433,
   "id": "9a9fc189",
   "metadata": {},
   "outputs": [],
   "source": [
    "naive_autorizacao = GaussianNB()"
   ]
  },
  {
   "cell_type": "code",
   "execution_count": 434,
   "id": "d03c9da2",
   "metadata": {},
   "outputs": [
    {
     "data": {
      "text/plain": [
       "GaussianNB()"
      ]
     },
     "execution_count": 434,
     "metadata": {},
     "output_type": "execute_result"
    }
   ],
   "source": [
    "naive_autorizacao.fit(X_treino,y_treino)"
   ]
  },
  {
   "cell_type": "code",
   "execution_count": 435,
   "id": "faa4dd5a",
   "metadata": {},
   "outputs": [],
   "source": [
    "naive_prev = naive_autorizacao.predict(X_teste)"
   ]
  },
  {
   "cell_type": "code",
   "execution_count": 436,
   "id": "26ac6f5a",
   "metadata": {},
   "outputs": [
    {
     "data": {
      "text/plain": [
       "array([1, 1, 1, ..., 1, 1, 1], dtype=int64)"
      ]
     },
     "execution_count": 436,
     "metadata": {},
     "output_type": "execute_result"
    }
   ],
   "source": [
    "naive_prev"
   ]
  },
  {
   "cell_type": "code",
   "execution_count": 437,
   "id": "02fd3d79",
   "metadata": {},
   "outputs": [
    {
     "data": {
      "text/plain": [
       "array([0, 0, 1, ..., 1, 0, 1], dtype=int64)"
      ]
     },
     "execution_count": 437,
     "metadata": {},
     "output_type": "execute_result"
    }
   ],
   "source": [
    "y_teste"
   ]
  },
  {
   "cell_type": "code",
   "execution_count": 438,
   "id": "0c6c593d",
   "metadata": {},
   "outputs": [
    {
     "data": {
      "text/plain": [
       "0.5040730683781782"
      ]
     },
     "execution_count": 438,
     "metadata": {},
     "output_type": "execute_result"
    }
   ],
   "source": [
    "accuracy_score(y_teste,naive_prev)"
   ]
  },
  {
   "cell_type": "code",
   "execution_count": 439,
   "id": "ae5884e6",
   "metadata": {},
   "outputs": [
    {
     "name": "stdout",
     "output_type": "stream",
     "text": [
      "\n",
      "               precision    recall  f1-score   support\n",
      "\n",
      "      NEGADA       0.60      0.10      0.16      2073\n",
      "  AUTORIZADA       0.50      0.93      0.65      1978\n",
      "\n",
      "    accuracy                           0.50      4051\n",
      "   macro avg       0.55      0.51      0.41      4051\n",
      "weighted avg       0.55      0.50      0.40      4051\n",
      "\n"
     ]
    }
   ],
   "source": [
    "print('\\n',classification_report(y_teste,naive_prev, target_names=['NEGADA','AUTORIZADA']))"
   ]
  },
  {
   "cell_type": "code",
   "execution_count": 440,
   "id": "6e7810bf",
   "metadata": {},
   "outputs": [
    {
     "data": {
      "text/plain": [
       "0.5040730683781782"
      ]
     },
     "execution_count": 440,
     "metadata": {},
     "output_type": "execute_result"
    },
    {
     "data": {
      "image/png": "[encoded data removed]",
      "text/plain": [
       "<Figure size 720x360 with 1 Axes>"
      ]
     },
     "metadata": {
      "needs_background": "light"
     },
     "output_type": "display_data"
    }
   ],
   "source": [
    "plt.rcParams['figure.figsize'] = [10, 5]\n",
    "cm = ConfusionMatrix(naive_autorizacao)\n",
    "cm.fit(X_treino,y_treino)\n",
    "cm.score(X_teste,y_teste)"
   ]
  },
  {
   "cell_type": "markdown",
   "id": "9aba4d4d",
   "metadata": {},
   "source": [
    "## Decision Tree"
   ]
  },
  {
   "cell_type": "code",
   "execution_count": 441,
   "id": "6f91dea7",
   "metadata": {},
   "outputs": [],
   "source": [
    "arvore_autorizacao = DecisionTreeClassifier(random_state=0)"
   ]
  },
  {
   "cell_type": "code",
   "execution_count": 442,
   "id": "11dbba21",
   "metadata": {},
   "outputs": [
    {
     "data": {
      "text/plain": [
       "DecisionTreeClassifier(random_state=0)"
      ]
     },
     "execution_count": 442,
     "metadata": {},
     "output_type": "execute_result"
    }
   ],
   "source": [
    "arvore_autorizacao.fit(X_treino,y_treino)"
   ]
  },
  {
   "cell_type": "code",
   "execution_count": 443,
   "id": "0aa5cfce",
   "metadata": {},
   "outputs": [],
   "source": [
    "arvore_prev = arvore_autorizacao.predict(X_teste)"
   ]
  },
  {
   "cell_type": "code",
   "execution_count": 444,
   "id": "667ddf52",
   "metadata": {},
   "outputs": [
    {
     "data": {
      "text/plain": [
       "array([0, 0, 1, ..., 1, 0, 1], dtype=int64)"
      ]
     },
     "execution_count": 444,
     "metadata": {},
     "output_type": "execute_result"
    }
   ],
   "source": [
    "arvore_prev"
   ]
  },
  {
   "cell_type": "code",
   "execution_count": 445,
   "id": "e6d598ee",
   "metadata": {},
   "outputs": [
    {
     "data": {
      "text/plain": [
       "array([0, 0, 1, ..., 1, 0, 1], dtype=int64)"
      ]
     },
     "execution_count": 445,
     "metadata": {},
     "output_type": "execute_result"
    }
   ],
   "source": [
    "y_teste"
   ]
  },
  {
   "cell_type": "code",
   "execution_count": 446,
   "id": "24dc9a46",
   "metadata": {},
   "outputs": [
    {
     "data": {
      "text/plain": [
       "0.9229819797580844"
      ]
     },
     "execution_count": 446,
     "metadata": {},
     "output_type": "execute_result"
    }
   ],
   "source": [
    "accuracy_score(y_teste,arvore_prev)"
   ]
  },
  {
   "cell_type": "code",
   "execution_count": 447,
   "id": "089e23b1",
   "metadata": {
    "scrolled": true
   },
   "outputs": [
    {
     "name": "stdout",
     "output_type": "stream",
     "text": [
      "\n",
      "               precision    recall  f1-score   support\n",
      "\n",
      "      NEGADA       0.93      0.91      0.92      2073\n",
      "  AUTORIZADA       0.91      0.93      0.92      1978\n",
      "\n",
      "    accuracy                           0.92      4051\n",
      "   macro avg       0.92      0.92      0.92      4051\n",
      "weighted avg       0.92      0.92      0.92      4051\n",
      "\n"
     ]
    }
   ],
   "source": [
    "print('\\n',classification_report(y_teste,arvore_prev, target_names=['NEGADA','AUTORIZADA']))"
   ]
  },
  {
   "cell_type": "code",
   "execution_count": 448,
   "id": "deaacfbf",
   "metadata": {},
   "outputs": [
    {
     "data": {
      "text/plain": [
       "0.9229819797580844"
      ]
     },
     "execution_count": 448,
     "metadata": {},
     "output_type": "execute_result"
    },
    {
     "data": {
      "image/png": "[encoded data removed]",
      "text/plain": [
       "<Figure size 720x360 with 1 Axes>"
      ]
     },
     "metadata": {
      "needs_background": "light"
     },
     "output_type": "display_data"
    }
   ],
   "source": [
    "plt.rcParams['figure.figsize'] = [10, 5]\n",
    "cm = ConfusionMatrix(arvore_autorizacao)\n",
    "cm.fit(X_treino,y_treino)\n",
    "cm.score(X_teste,y_teste)"
   ]
  },
  {
   "cell_type": "markdown",
   "id": "000d60f8",
   "metadata": {},
   "source": [
    "## Random Forest"
   ]
  },
  {
   "cell_type": "code",
   "execution_count": 449,
   "id": "66c91282",
   "metadata": {},
   "outputs": [],
   "source": [
    "random_forest_autorizacao = RandomForestClassifier(random_state=0)"
   ]
  },
  {
   "cell_type": "code",
   "execution_count": 450,
   "id": "70511107",
   "metadata": {},
   "outputs": [
    {
     "data": {
      "text/plain": [
       "RandomForestClassifier(random_state=0)"
      ]
     },
     "execution_count": 450,
     "metadata": {},
     "output_type": "execute_result"
    }
   ],
   "source": [
    "random_forest_autorizacao.fit(X_treino,y_treino)"
   ]
  },
  {
   "cell_type": "code",
   "execution_count": 451,
   "id": "db29139f",
   "metadata": {},
   "outputs": [],
   "source": [
    "random_forest_prev = random_forest_autorizacao.predict(X_teste)"
   ]
  },
  {
   "cell_type": "code",
   "execution_count": 452,
   "id": "d45872d0",
   "metadata": {},
   "outputs": [
    {
     "data": {
      "text/plain": [
       "array([0, 0, 1, ..., 1, 0, 1], dtype=int64)"
      ]
     },
     "execution_count": 452,
     "metadata": {},
     "output_type": "execute_result"
    }
   ],
   "source": [
    "random_forest_prev"
   ]
  },
  {
   "cell_type": "code",
   "execution_count": 453,
   "id": "76218f24",
   "metadata": {},
   "outputs": [
    {
     "data": {
      "text/plain": [
       "array([0, 0, 1, ..., 1, 0, 1], dtype=int64)"
      ]
     },
     "execution_count": 453,
     "metadata": {},
     "output_type": "execute_result"
    }
   ],
   "source": [
    "y_teste"
   ]
  },
  {
   "cell_type": "code",
   "execution_count": 454,
   "id": "d27be7da",
   "metadata": {},
   "outputs": [
    {
     "data": {
      "text/plain": [
       "0.9563070846704518"
      ]
     },
     "execution_count": 454,
     "metadata": {},
     "output_type": "execute_result"
    }
   ],
   "source": [
    "accuracy_score(y_teste,random_forest_prev)"
   ]
  },
  {
   "cell_type": "code",
   "execution_count": 455,
   "id": "4153dab4",
   "metadata": {},
   "outputs": [
    {
     "name": "stdout",
     "output_type": "stream",
     "text": [
      "\n",
      "               precision    recall  f1-score   support\n",
      "\n",
      "      NEGADA       0.97      0.94      0.96      2073\n",
      "  AUTORIZADA       0.94      0.97      0.96      1978\n",
      "\n",
      "    accuracy                           0.96      4051\n",
      "   macro avg       0.96      0.96      0.96      4051\n",
      "weighted avg       0.96      0.96      0.96      4051\n",
      "\n"
     ]
    }
   ],
   "source": [
    "print('\\n',classification_report(y_teste,random_forest_prev, target_names=['NEGADA','AUTORIZADA']))"
   ]
  },
  {
   "cell_type": "code",
   "execution_count": 456,
   "id": "f244eee5",
   "metadata": {
    "scrolled": true
   },
   "outputs": [
    {
     "data": {
      "text/plain": [
       "0.9563070846704518"
      ]
     },
     "execution_count": 456,
     "metadata": {},
     "output_type": "execute_result"
    },
    {
     "data": {
      "image/png": "[encoded data removed]",
      "text/plain": [
       "<Figure size 720x360 with 1 Axes>"
      ]
     },
     "metadata": {
      "needs_background": "light"
     },
     "output_type": "display_data"
    }
   ],
   "source": [
    "plt.rcParams['figure.figsize'] = [10, 5]\n",
    "cm = ConfusionMatrix(random_forest_autorizacao)\n",
    "cm.fit(X_treino,y_treino)\n",
    "cm.score(X_teste,y_teste)"
   ]
  },
  {
   "cell_type": "markdown",
   "id": "e4adaaa7",
   "metadata": {},
   "source": [
    "# Comparando os resultados dos modelos com classe balanceada e não balanceada"
   ]
  },
  {
   "cell_type": "markdown",
   "id": "2b803a9d",
   "metadata": {},
   "source": [
    "## Naive Bayes"
   ]
  },
  {
   "cell_type": "code",
   "execution_count": 457,
   "id": "255f42fd",
   "metadata": {},
   "outputs": [
    {
     "name": "stdout",
     "output_type": "stream",
     "text": [
      "##### Não Balanceado #####\n",
      "              precision    recall  f1-score   support\n",
      "\n",
      "      NEGADA       0.30      0.02      0.04       363\n",
      "  AUTORIZADA       0.85      0.99      0.91      2003\n",
      "\n",
      "    accuracy                           0.84      2366\n",
      "   macro avg       0.58      0.51      0.48      2366\n",
      "weighted avg       0.76      0.84      0.78      2366\n",
      "\n",
      "\n",
      "\n",
      "##### Balanceado #####\n",
      "\n",
      "               precision    recall  f1-score   support\n",
      "\n",
      "      NEGADA       0.60      0.10      0.16      2073\n",
      "  AUTORIZADA       0.50      0.93      0.65      1978\n",
      "\n",
      "    accuracy                           0.50      4051\n",
      "   macro avg       0.55      0.51      0.41      4051\n",
      "weighted avg       0.55      0.50      0.40      4051\n",
      "\n"
     ]
    }
   ],
   "source": [
    "print(\"##### Não Balanceado #####\")\n",
    "print(classification_report(nb_y_teste,nb_naive_prev, target_names=['NEGADA','AUTORIZADA']))\n",
    "print(\"\\n\\n##### Balanceado #####\")\n",
    "print('\\n',classification_report(y_teste,naive_prev, target_names=['NEGADA','AUTORIZADA']))"
   ]
  },
  {
   "cell_type": "markdown",
   "id": "22f1049e",
   "metadata": {},
   "source": [
    "## Arvore de decisão"
   ]
  },
  {
   "cell_type": "code",
   "execution_count": 458,
   "id": "cf6f2943",
   "metadata": {},
   "outputs": [
    {
     "name": "stdout",
     "output_type": "stream",
     "text": [
      "##### Não Balanceado #####\n",
      "              precision    recall  f1-score   support\n",
      "\n",
      "      NEGADA       0.62      0.60      0.61       363\n",
      "  AUTORIZADA       0.93      0.93      0.93      2003\n",
      "\n",
      "    accuracy                           0.88      2366\n",
      "   macro avg       0.78      0.77      0.77      2366\n",
      "weighted avg       0.88      0.88      0.88      2366\n",
      "\n",
      "\n",
      "\n",
      "##### Balanceado #####\n",
      "\n",
      "               precision    recall  f1-score   support\n",
      "\n",
      "      NEGADA       0.93      0.91      0.92      2073\n",
      "  AUTORIZADA       0.91      0.93      0.92      1978\n",
      "\n",
      "    accuracy                           0.92      4051\n",
      "   macro avg       0.92      0.92      0.92      4051\n",
      "weighted avg       0.92      0.92      0.92      4051\n",
      "\n"
     ]
    }
   ],
   "source": [
    "print(\"##### Não Balanceado #####\")\n",
    "print(classification_report(nb_y_teste,nb_arvore_prev, target_names=['NEGADA','AUTORIZADA']))\n",
    "print(\"\\n\\n##### Balanceado #####\")\n",
    "print('\\n',classification_report(y_teste,arvore_prev, target_names=['NEGADA','AUTORIZADA']))"
   ]
  },
  {
   "cell_type": "markdown",
   "id": "1b0f7d07",
   "metadata": {},
   "source": [
    "## Random Forest"
   ]
  },
  {
   "cell_type": "code",
   "execution_count": 459,
   "id": "d7987f0c",
   "metadata": {},
   "outputs": [
    {
     "name": "stdout",
     "output_type": "stream",
     "text": [
      "##### Não Balanceado #####\n",
      "              precision    recall  f1-score   support\n",
      "\n",
      "      NEGADA       0.78      0.56      0.65       363\n",
      "  AUTORIZADA       0.92      0.97      0.95      2003\n",
      "\n",
      "    accuracy                           0.91      2366\n",
      "   macro avg       0.85      0.77      0.80      2366\n",
      "weighted avg       0.90      0.91      0.90      2366\n",
      "\n",
      "\n",
      "\n",
      "##### Balanceado #####\n",
      "\n",
      "               precision    recall  f1-score   support\n",
      "\n",
      "      NEGADA       0.97      0.94      0.96      2073\n",
      "  AUTORIZADA       0.94      0.97      0.96      1978\n",
      "\n",
      "    accuracy                           0.96      4051\n",
      "   macro avg       0.96      0.96      0.96      4051\n",
      "weighted avg       0.96      0.96      0.96      4051\n",
      "\n"
     ]
    }
   ],
   "source": [
    "print(\"##### Não Balanceado #####\")\n",
    "print(classification_report(nb_y_teste,nb_random_forest_prev, target_names=['NEGADA','AUTORIZADA']))\n",
    "print(\"\\n\\n##### Balanceado #####\")\n",
    "print('\\n',classification_report(y_teste,random_forest_prev, target_names=['NEGADA','AUTORIZADA']))"
   ]
  },
  {
   "cell_type": "markdown",
   "id": "b23bb63a",
   "metadata": {},
   "source": [
    "## Comparando a acurácia"
   ]
  },
  {
   "cell_type": "code",
   "execution_count": 460,
   "id": "291831e3",
   "metadata": {},
   "outputs": [
    {
     "name": "stdout",
     "output_type": "stream",
     "text": [
      "##### Não Balanceado #####\n",
      "Naive Bayes: 0.8427726120033813\n",
      "Arvore de decisão: 0.8829247675401521\n",
      "Random forest: 0.908284023668639\n",
      "\n",
      "##### Balanceado #####\n",
      "Naive Bayes: 0.5040730683781782\n",
      "Arvore de decisão: 0.9229819797580844\n",
      "Random forest: 0.9563070846704518\n"
     ]
    }
   ],
   "source": [
    "print(\"##### Não Balanceado #####\")\n",
    "print('Naive Bayes:',accuracy_score(nb_y_teste,nb_naive_prev))\n",
    "print('Arvore de decisão:',accuracy_score(nb_y_teste,nb_arvore_prev))\n",
    "print('Random forest:',accuracy_score(nb_y_teste,nb_random_forest_prev))\n",
    "\n",
    "print(\"\\n##### Balanceado #####\")\n",
    "print('Naive Bayes:',accuracy_score(y_teste,naive_prev))\n",
    "print('Arvore de decisão:',accuracy_score(y_teste,arvore_prev))\n",
    "print('Random forest:',accuracy_score(y_teste,random_forest_prev))"
   ]
  },
  {
   "cell_type": "code",
   "execution_count": null,
   "id": "9cee74f6",
   "metadata": {},
   "outputs": [],
   "source": []
  }
 ],
 "metadata": {
  "kernelspec": {
   "display_name": "Python 3 (ipykernel)",
   "language": "python",
   "name": "python3"
  },
  "language_info": {
   "codemirror_mode": {
    "name": "ipython",
    "version": 3
   },
   "file_extension": ".py",
   "mimetype": "text/x-python",
   "name": "python",
   "nbconvert_exporter": "python",
   "pygments_lexer": "ipython3",
   "version": "3.10.0"
  }
 },
 "nbformat": 4,
 "nbformat_minor": 5
}
